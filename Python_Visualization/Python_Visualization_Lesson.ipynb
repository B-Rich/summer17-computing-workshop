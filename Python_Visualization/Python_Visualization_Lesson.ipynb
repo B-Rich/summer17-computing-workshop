{
 "cells": [
  {
   "cell_type": "markdown",
   "metadata": {
    "collapsed": true
   },
   "source": [
    "Visualizing Datasets\n",
    "=============\n",
    "\n",
    "At the end of the day, any scientific experiment -- either performed in the lab, or _in silico_ -- tends to produce data which is processed and analyzed. Sometimes, this analysis involves [visualizing the data](https://en.wikipedia.org/wiki/Data_visualization). In this lesson, you'll learn how to use Python's ``matplotlib`` package to make some visualizations.\n",
    "\n",
    "In this lesson, we'll be working with some data derived from a [data set](http://databank.worldbank.org/data/reports.aspx?source=2&series=EN.ATM.CO2E.PC) published by the World Bank on carbon dixoide emissions by country and year, measured in metric tons per capita.\n",
    "\n"
   ]
  },
  {
   "cell_type": "markdown",
   "metadata": {},
   "source": [
    "Anatomy of a Matplotlib Figure\n",
    "==============\n",
    "\n",
    "Let's take a look at one of the main tools used to do data visualization in Python: [matplotlib](https://matplotlib.org/index.html). ``matplotlib`` is designed to be Python's answer to plotting in ``MATLAB``. For this reason, if you've had to make plots in ``MATLAB``, you might find working with ``matplotlib`` to be somewhat familiar.\n",
    "\n",
    "Generally speaking, people interact with ``matplotlib`` in one of two ways:\n",
    "\n",
    "* They import a module, ``matplotlib.pyplot``, which exposes a whole bunch of plotting functions, and allows for more fine-tuned control over aspects of the plot\n",
    "\n",
    "* They import a module ``pylab``, which itself imports ``matplotlib`` and some other Python packages, to make the generation of plots a bit more like how ``MATLAB`` works.\n",
    "\n",
    "For the purposes of this lesson, you will be using the former approach, as ``matplotlib.pyplot`` provides a much more rich set of commands with which you can create plots. (For more of a discussion on this point, see this [blog post from DataCamp](https://www.datacamp.com/community/tutorials/matplotlib-tutorial-python).)\n",
    "\n",
    "Ready to start making some plots?\n",
    "\n"
   ]
  },
  {
   "cell_type": "markdown",
   "metadata": {},
   "source": [
    "> The ``matplotlib.pyplot`` ``figure`` object\n",
    "------------------\n",
    "\n",
    "The first thing you need to know about making a plot is the ``figure`` object. Think of it like a canvas that an artist paints on - it's a blank slate upon which you can put text, images, etc. The ``figure`` object is the fundamental thing we need to do plotting.\n",
    "\n",
    "Let's import ``matplotlib.pyplot`` and instantiate a figure. To do so, we first need to import the module. In addition, because we are working in a Jupyter notebook, it's often convenient to tell matplotlib that we want the plots to be rendered \"inline\" inside the notebook."
   ]
  },
  {
   "cell_type": "code",
   "execution_count": 16,
   "metadata": {
    "collapsed": true
   },
   "outputs": [],
   "source": [
    "#Import matplotlib, and set rendering to be \"inline\"\n",
    "import matplotlib.pyplot as plt\n",
    "\n",
    "%matplotlib inline\n",
    "\n",
    "#Import numpy for later in the notebook\n",
    "import numpy as np"
   ]
  },
  {
   "cell_type": "markdown",
   "metadata": {},
   "source": [
    "Now, we can instantiate a ``figure``."
   ]
  },
  {
   "cell_type": "code",
   "execution_count": 17,
   "metadata": {},
   "outputs": [
    {
     "data": {
      "text/plain": [
       "<matplotlib.figure.Figure at 0x7f7f32dc6e48>"
      ]
     },
     "metadata": {},
     "output_type": "display_data"
    }
   ],
   "source": [
    "#Instantiate a figure, and show it\n",
    "fig = plt.figure()\n",
    "\n",
    "plt.show()"
   ]
  },
  {
   "cell_type": "markdown",
   "metadata": {},
   "source": [
    "Hmm...that's interesting! We made a figure, but when we show it, we simply get a memory address! Why is that? Because, since the figure is a _canvas_, and we haven't put anything on it, there's nothing to show! "
   ]
  },
  {
   "cell_type": "markdown",
   "metadata": {},
   "source": [
    "> Adding axes to the figure\n",
    "------------\n",
    "\n",
    "Having instantiated a ``figure`` object, we can use the ``.add_axes()`` method to put axes on the figure."
   ]
  },
  {
   "cell_type": "code",
   "execution_count": 18,
   "metadata": {},
   "outputs": [
    {
     "data": {
      "image/png": "[encoded data removed]",
      "text/plain": [
       "<matplotlib.figure.Figure at 0x7f7f32adaf98>"
      ]
     },
     "metadata": {},
     "output_type": "display_data"
    }
   ],
   "source": [
    "#Instantiate a figure, and add a standard set of axes\n",
    "fig = plt.figure()\n",
    "\n",
    "ax = fig.add_axes([0, 0, 1, 1])\n",
    "\n",
    "plt.show()"
   ]
  },
  {
   "cell_type": "markdown",
   "metadata": {},
   "source": [
    "The ``add_axes()`` method provides us with a non-trivial degree of control over the figure. For example, suppose we wanted to put two sets of axes. To do so, we call ``add_axes()`` twice."
   ]
  },
  {
   "cell_type": "code",
   "execution_count": 19,
   "metadata": {},
   "outputs": [
    {
     "data": {
      "image/png": "[encoded data removed]",
      "text/plain": [
       "<matplotlib.figure.Figure at 0x7f7f2f795e80>"
      ]
     },
     "metadata": {},
     "output_type": "display_data"
    }
   ],
   "source": [
    "#Instantiate a figure\n",
    "fig = plt.figure()\n",
    "\n",
    "#Add an axis for the left half of the figure\n",
    "ax = fig.add_axes([0, 0, .5, .5])\n",
    "\n",
    "#Add an axis for the right half of the figure\n",
    "ax2 = fig.add_axes([.5, .5, .5, .5])\n"
   ]
  },
  {
   "cell_type": "markdown",
   "metadata": {},
   "source": [
    "Now that we can add axes to our figures, we can start making some plots!"
   ]
  },
  {
   "cell_type": "markdown",
   "metadata": {},
   "source": [
    "Some Simple Plots\n",
    "============"
   ]
  },
  {
   "cell_type": "markdown",
   "metadata": {},
   "source": [
    "> Line Plot\n",
    "-----------\n",
    "\n",
    "One of the most basic -- but useful -- plots is a _line plot_. If we have an ``Axes`` object, we can use its ``plot`` method to plot data. Below, you will take some data about historical US CO2 emissions, and make a line plot."
   ]
  },
  {
   "cell_type": "code",
   "execution_count": 20,
   "metadata": {
    "collapsed": true
   },
   "outputs": [],
   "source": [
    "#Data derived from the World Bank data set\n",
    "\n",
    "years = [1990, 2000, 2007, 2008, 2009, 2010, 2011, 2012, 2013]\n",
    "\n",
    "us_emissions = [np.round(float(x), 2) for x in ['19.3233681671961', '20.2076147591466', '19.2374604467856',\n",
    "       '18.4892337521751', '17.1923671443447', '17.4848031479796',\n",
    "       '17.0194385160343', '16.28705288144', '16.389757994879']]"
   ]
  },
  {
   "cell_type": "code",
   "execution_count": 21,
   "metadata": {},
   "outputs": [
    {
     "data": {
      "text/plain": [
       "[<matplotlib.lines.Line2D at 0x7f7f2f6a21d0>]"
      ]
     },
     "execution_count": 21,
     "metadata": {},
     "output_type": "execute_result"
    },
    {
     "data": {
      "image/png": "[encoded data removed]",
      "text/plain": [
       "<matplotlib.figure.Figure at 0x7f7f2f63f710>"
      ]
     },
     "metadata": {},
     "output_type": "display_data"
    }
   ],
   "source": [
    "#Instantiate a figure\n",
    "fig = plt.figure()\n",
    "\n",
    "#Add an axis\n",
    "ax = fig.add_axes([0,0,1,1])\n",
    "\n",
    "#Plot emissions versus years\n",
    "ax.plot(years, us_emissions)"
   ]
  },
  {
   "cell_type": "markdown",
   "metadata": {},
   "source": [
    "This is a pretty minimal plot. There are several things we might like to do to it, to make it a bit more legible:\n",
    "\n",
    "* Put markers at the data points\n",
    "* Make the line dashed, so that people don't think there's X-values in-between the integers\n",
    "* Add labels to the x,y-axes\n",
    "* Add a title\n",
    "\n",
    "Using the ``plot`` method of an ``Axes`` object, doing so is straightforward! The first two points are accomplished using the ``marker``, ``markersize``, ``linestyle`` keywords, and the last two using other methods built into the ``Axes`` object."
   ]
  },
  {
   "cell_type": "code",
   "execution_count": 22,
   "metadata": {},
   "outputs": [
    {
     "data": {
      "image/png": "[encoded data removed]",
      "text/plain": [
       "<matplotlib.figure.Figure at 0x7f7f2f6477b8>"
      ]
     },
     "metadata": {},
     "output_type": "display_data"
    }
   ],
   "source": [
    "#Draw the minimal figure\n",
    "fig = plt.figure()\n",
    "ax = fig.add_axes([0, 0, 1, 1])\n",
    "\n",
    "#Change marker, markersize, and linestyle\n",
    "ax.plot(years, us_emissions, marker='o', markersize=8, linestyle='--', clip_on=False)\n",
    "\n",
    "#Add a label to the x-axis\n",
    "ax.set_xlabel('Year', fontsize=20)\n",
    "\n",
    "#Add a label to the y-axis\n",
    "ax.set_ylabel('Emissions', fontsize=20)\n",
    "\n",
    "#Add a  title\n",
    "ax.set_title('US CO2 Emissions (metric tons per capita)')\n",
    "\n",
    "#Adjust x limits for easier viewing\n",
    "ax.set_xlim([1990, 2015])\n",
    "\n",
    "#Turn off the frame (the box around the plot)\n",
    "ax.set_frame_on(False)"
   ]
  },
  {
   "cell_type": "markdown",
   "metadata": {},
   "source": [
    "> Bar Plot\n",
    "-----------\n",
    "\n",
    "To make a bar plot, we use the ``bar`` method of an ``Axes`` object. Below, you'll make a bar plot of carbon dioxide emissions in 2012 for a few countries.\n",
    "\n",
    "The ``bar`` method is a bit strange in that it request as input a list of scalars and a list of bar heights, and\n",
    "then outputs the bar plot. Which means that if we want our x-labels to be _categorical_, then we need to explicitly\n",
    "manipulate the plot to do so."
   ]
  },
  {
   "cell_type": "code",
   "execution_count": 23,
   "metadata": {
    "collapsed": true
   },
   "outputs": [],
   "source": [
    "#2012 carbon dioxide emissions (metric tons per capita) for a few countries\n",
    "\n",
    "countries = ['Qatar', 'Kuwait', 'Luxembourg', 'United Arab Emirates', 'Saudi Arabia', 'Australia', 'United States',\\\n",
    "             'Canada', 'Russian Federation']\n",
    "\n",
    "emissions = [46.697477, 29.578729, 20.084219, 19.252223, 19.188937, 16.519386, 16.287053, 13.858827, 12.818345]"
   ]
  },
  {
   "cell_type": "code",
   "execution_count": 24,
   "metadata": {},
   "outputs": [
    {
     "data": {
      "image/png": "[encoded data removed]",
      "text/plain": [
       "<matplotlib.figure.Figure at 0x7f7f2f57a4a8>"
      ]
     },
     "metadata": {},
     "output_type": "display_data"
    }
   ],
   "source": [
    "#Make a figure\n",
    "fig = plt.figure()\n",
    "\n",
    "#Add an axis\n",
    "ax = fig.add_axes([0, 0, 1, 1])\n",
    "\n",
    "#Use the bar() function to make the bar plot\n",
    "ax.bar(range(len(countries)), emissions)\n",
    "\n",
    "#Adjust the x-ticks\n",
    "ax.set_xticks(range(len(countries)))\n",
    "ax.set_xticklabels(countries, rotation=45)\n",
    "\n",
    "#Put labels on the axes, and make a title\n",
    "ax.set_xlabel('Country')\n",
    "ax.set_ylabel('Emissions')\n",
    "ax.set_title('2012 CO2 Emissions, by Country')\n",
    "\n",
    "#Turn off the frame\n",
    "ax.set_frame_on(False)\n",
    "#Suppress some output, and show the plot\n",
    "plt.show()"
   ]
  },
  {
   "cell_type": "markdown",
   "metadata": {},
   "source": [
    "> Histogram\n",
    "-----------\n",
    "\n",
    "Another useful visualization is a histogram. We can make one using the ``hist()`` method of an ``Axes`` object. Below, we expand our view of the emissions information we plotted above, and look at 2012 CO2 emissions over all countries for which the World Bank had information."
   ]
  },
  {
   "cell_type": "code",
   "execution_count": 25,
   "metadata": {
    "collapsed": true
   },
   "outputs": [],
   "source": [
    "#Load 2012 data from the data file\n",
    "emissions = np.loadtxt('2012_emissions_data.txt')"
   ]
  },
  {
   "cell_type": "markdown",
   "metadata": {},
   "source": [
    "As a sanity check, let's see how many entries are in this dataset:"
   ]
  },
  {
   "cell_type": "code",
   "execution_count": 26,
   "metadata": {},
   "outputs": [
    {
     "data": {
      "text/plain": [
       "204"
      ]
     },
     "execution_count": 26,
     "metadata": {},
     "output_type": "execute_result"
    }
   ],
   "source": [
    "len(emissions)"
   ]
  },
  {
   "cell_type": "markdown",
   "metadata": {},
   "source": [
    "There are approximately 195 recognized countries in the world today, so this number is in the right ballpark. (It may include other sovereign entities which are not countries.)"
   ]
  },
  {
   "cell_type": "code",
   "execution_count": 27,
   "metadata": {},
   "outputs": [
    {
     "data": {
      "image/png": "[encoded data removed]",
      "text/plain": [
       "<matplotlib.figure.Figure at 0x7f7f2f529b38>"
      ]
     },
     "metadata": {},
     "output_type": "display_data"
    }
   ],
   "source": [
    "#Make a figure\n",
    "fig = plt.figure()\n",
    "\n",
    "#Add an axis\n",
    "ax = fig.add_axes([0, 0, 1, 1])\n",
    "\n",
    "#Use the ax.hist() function to make a histogram.\n",
    "#NOTE: Adjust the range if need be.\n",
    "ax.hist(emissions)\n",
    "\n",
    "#Label the axes\n",
    "ax.set_xlabel('CO2 Emissions (metric tons per capita)', fontsize=20)\n",
    "ax.set_ylabel('Counts (Sovereign Entities)', fontsize=20)\n",
    "ax.set_title('2012 World Bank Data')\n",
    "#Change the y-scale to make the visualization a bit\n",
    "#easier to understand.\n",
    "ax.set_yscale('log')\n",
    "\n",
    "plt.show()"
   ]
  },
  {
   "cell_type": "markdown",
   "metadata": {},
   "source": [
    "Improving Figure Aesthetics\n",
    "=============="
   ]
  },
  {
   "cell_type": "markdown",
   "metadata": {},
   "source": [
    "> Using ``seaborn`` to change default aesthetics\n",
    "-------------\n",
    "(Explain ``import seaborn``, and how it overrides ``matplotlib`` defaults)"
   ]
  },
  {
   "cell_type": "code",
   "execution_count": 28,
   "metadata": {
    "collapsed": true
   },
   "outputs": [],
   "source": [
    "import seaborn"
   ]
  },
  {
   "cell_type": "code",
   "execution_count": 29,
   "metadata": {},
   "outputs": [
    {
     "data": {
      "text/plain": [
       "'0.7.1'"
      ]
     },
     "execution_count": 29,
     "metadata": {},
     "output_type": "execute_result"
    }
   ],
   "source": [
    "seaborn.__version__"
   ]
  },
  {
   "cell_type": "code",
   "execution_count": 30,
   "metadata": {
    "scrolled": false
   },
   "outputs": [
    {
     "data": {
      "image/png": "[encoded data removed]",
      "text/plain": [
       "<matplotlib.figure.Figure at 0x7f7f1e61d940>"
      ]
     },
     "metadata": {},
     "output_type": "display_data"
    }
   ],
   "source": [
    "fig = plt.figure()\n",
    "ax= fig.add_axes([0, 0, 1, 1])"
   ]
  },
  {
   "cell_type": "markdown",
   "metadata": {},
   "source": [
    "> Choosing a Good Colormap with ``seaborn.color_palette``\n",
    "--------------\n",
    "http://seaborn.pydata.org/tutorial/color_palettes.html"
   ]
  },
  {
   "cell_type": "markdown",
   "metadata": {},
   "source": [
    "* [Categorical Data](https://en.wikipedia.org/wiki/Categorical_variable)\n",
    "\n",
    "Data is _categorical_ when it is related to a set of fixed classifications, or categories. For example, the US Census collects a substantial amount of categorical data about the US population.\n",
    "\n",
    "Sometimes, we want to take numerical data and make sense of it as a function of some category. In the World Bank data set, we will look at CO2 emissions by country.\n",
    "\n",
    "In this part of the lesson, we make use of the ``pandas`` library, which is intended to help researchers work with data, through the use of \"dataframes\" (think \"tables\"). In particular, ``pandas`` has a variety of ``read_X`` functions, which allow you to read CSV files, or even Excel files!"
   ]
  },
  {
   "cell_type": "code",
   "execution_count": 31,
   "metadata": {
    "collapsed": true
   },
   "outputs": [],
   "source": [
    "#Import pandas\n",
    "import pandas as pd"
   ]
  },
  {
   "cell_type": "code",
   "execution_count": 32,
   "metadata": {},
   "outputs": [
    {
     "data": {
      "text/html": [
       "<div>\n",
       "<table border=\"1\" class=\"dataframe\">\n",
       "  <thead>\n",
       "    <tr style=\"text-align: right;\">\n",
       "      <th></th>\n",
       "      <th>Country Name</th>\n",
       "      <th>Year</th>\n",
       "      <th>emissions</th>\n",
       "    </tr>\n",
       "  </thead>\n",
       "  <tbody>\n",
       "    <tr>\n",
       "      <th>0</th>\n",
       "      <td>China</td>\n",
       "      <td>1990</td>\n",
       "      <td>2.168</td>\n",
       "    </tr>\n",
       "    <tr>\n",
       "      <th>1</th>\n",
       "      <td>France</td>\n",
       "      <td>1990</td>\n",
       "      <td>6.420</td>\n",
       "    </tr>\n",
       "    <tr>\n",
       "      <th>2</th>\n",
       "      <td>Japan</td>\n",
       "      <td>1990</td>\n",
       "      <td>8.873</td>\n",
       "    </tr>\n",
       "    <tr>\n",
       "      <th>3</th>\n",
       "      <td>Korea, Rep.</td>\n",
       "      <td>1990</td>\n",
       "      <td>5.760</td>\n",
       "    </tr>\n",
       "    <tr>\n",
       "      <th>4</th>\n",
       "      <td>United States</td>\n",
       "      <td>1990</td>\n",
       "      <td>19.323</td>\n",
       "    </tr>\n",
       "  </tbody>\n",
       "</table>\n",
       "</div>"
      ],
      "text/plain": [
       "    Country Name  Year  emissions\n",
       "0          China  1990      2.168\n",
       "1         France  1990      6.420\n",
       "2          Japan  1990      8.873\n",
       "3    Korea, Rep.  1990      5.760\n",
       "4  United States  1990     19.323"
      ]
     },
     "execution_count": 32,
     "metadata": {},
     "output_type": "execute_result"
    }
   ],
   "source": [
    "#Read in worldwise_emissions.csv\n",
    "df = pd.read_csv('worldwide_emissions.csv')\n",
    "\n",
    "#Display the first few rows\n",
    "df.head()"
   ]
  },
  {
   "cell_type": "markdown",
   "metadata": {
    "collapsed": true
   },
   "source": [
    "Colormaps for categorical data should themselves not be distracting. In particular, if we use a color map which has substantial variation in the perceived brightness of the colors, then viewers of our plot will tend to focus more on that, than the data conveyed!\n",
    "\n",
    "To that end, we make use of the [\"HUSL\" color map](http://www.boronine.com/2012/03/26/Color-Spaces-for-Human-Beings/). The perceived brightness of the colors doesn't change as we scan the colors, making this colormap great for categorical data.\n",
    "\n",
    "Seaborn provides access to a function, ``color_palette``, which allows us to create a HUSL color palette with enough colors, one for each country in our dataframe.\n",
    "\n",
    "One you have a color palette, you can use the `palplot` function to display it. (Great for checking that the colors are what you want!)"
   ]
  },
  {
   "cell_type": "code",
   "execution_count": 33,
   "metadata": {},
   "outputs": [
    {
     "data": {
      "image/png": "[encoded data removed]",
      "text/plain": [
       "<matplotlib.figure.Figure at 0x7f7f1e3c41d0>"
      ]
     },
     "metadata": {},
     "output_type": "display_data"
    }
   ],
   "source": [
    "#Determine how many unique country names are in the dataframe\n",
    "num_countries =len(df['Country Name'].unique())\n",
    "\n",
    "#Make a HUSL color palette\n",
    "colors = seaborn.color_palette('husl', n_colors=num_countries)\n",
    "\n",
    "#Display the palette\n",
    "seaborn.palplot(colors)"
   ]
  },
  {
   "cell_type": "markdown",
   "metadata": {},
   "source": [
    "Now that we have the colors and the data, we are going to make a figure showing CO2 emissions over the years for each country in the dataset. "
   ]
  },
  {
   "cell_type": "code",
   "execution_count": 34,
   "metadata": {
    "scrolled": false
   },
   "outputs": [
    {
     "data": {
      "text/plain": [
       "<matplotlib.legend.Legend at 0x7f7f1e3bac88>"
      ]
     },
     "execution_count": 34,
     "metadata": {},
     "output_type": "execute_result"
    },
    {
     "data": {
      "image/png": "[encoded data removed]",
      "text/plain": [
       "<matplotlib.figure.Figure at 0x7f7f1e354c18>"
      ]
     },
     "metadata": {},
     "output_type": "display_data"
    }
   ],
   "source": [
    "fig = plt.figure()\n",
    "ax = fig.add_axes([0, 0, 1, 1])\n",
    "\n",
    "counter = 0\n",
    "for c in df['Country Name'].unique():\n",
    "    X = df[df['Country Name'] == c]['Year']\n",
    "    Y = df[df['Country Name'] == c]['emissions']\n",
    "    ax.plot(X, Y, color=colors[counter], ls='--', marker='o', clip_on=False, label=c)\n",
    "    \n",
    "    counter +=1\n",
    "    \n",
    "ax.legend(loc=0, fontsize=12)"
   ]
  },
  {
   "cell_type": "markdown",
   "metadata": {},
   "source": [
    "* [Sequential Color Palette](http://www.personal.psu.edu/cab38/ColorSch/SchHTMLs/CBColorSeq.html)\n",
    "\n",
    "A sequential color palette is useful when you have an ordering on numeric data, _and_ your data do not take both positive and negative values.\n",
    "\n",
    "The plot above does a good job of using lines to indicate increases/decreases in CO2 emissions over time. However, because the amount of emisssions can never go below 0, it might make sense to plot this data in a different way, using a heatmap."
   ]
  },
  {
   "cell_type": "code",
   "execution_count": 35,
   "metadata": {},
   "outputs": [
    {
     "data": {
      "text/html": [
       "<div>\n",
       "<table border=\"1\" class=\"dataframe\">\n",
       "  <thead>\n",
       "    <tr style=\"text-align: right;\">\n",
       "      <th>Year</th>\n",
       "      <th>1990</th>\n",
       "      <th>2000</th>\n",
       "      <th>2007</th>\n",
       "      <th>2008</th>\n",
       "      <th>2009</th>\n",
       "      <th>2010</th>\n",
       "      <th>2011</th>\n",
       "      <th>2012</th>\n",
       "      <th>2013</th>\n",
       "    </tr>\n",
       "    <tr>\n",
       "      <th>Country Name</th>\n",
       "      <th></th>\n",
       "      <th></th>\n",
       "      <th></th>\n",
       "      <th></th>\n",
       "      <th></th>\n",
       "      <th></th>\n",
       "      <th></th>\n",
       "      <th></th>\n",
       "      <th></th>\n",
       "    </tr>\n",
       "  </thead>\n",
       "  <tbody>\n",
       "    <tr>\n",
       "      <th>China</th>\n",
       "      <td>2.168</td>\n",
       "      <td>2.697</td>\n",
       "      <td>5.154</td>\n",
       "      <td>5.417</td>\n",
       "      <td>5.723</td>\n",
       "      <td>6.554</td>\n",
       "      <td>7.235</td>\n",
       "      <td>7.419</td>\n",
       "      <td>7.551</td>\n",
       "    </tr>\n",
       "    <tr>\n",
       "      <th>France</th>\n",
       "      <td>6.420</td>\n",
       "      <td>5.944</td>\n",
       "      <td>5.763</td>\n",
       "      <td>5.687</td>\n",
       "      <td>5.434</td>\n",
       "      <td>5.425</td>\n",
       "      <td>5.074</td>\n",
       "      <td>5.071</td>\n",
       "      <td>5.050</td>\n",
       "    </tr>\n",
       "    <tr>\n",
       "      <th>Germany</th>\n",
       "      <td>NaN</td>\n",
       "      <td>10.096</td>\n",
       "      <td>9.488</td>\n",
       "      <td>9.506</td>\n",
       "      <td>8.815</td>\n",
       "      <td>9.276</td>\n",
       "      <td>9.120</td>\n",
       "      <td>9.192</td>\n",
       "      <td>9.391</td>\n",
       "    </tr>\n",
       "    <tr>\n",
       "      <th>Japan</th>\n",
       "      <td>8.873</td>\n",
       "      <td>9.622</td>\n",
       "      <td>9.783</td>\n",
       "      <td>9.450</td>\n",
       "      <td>8.619</td>\n",
       "      <td>9.150</td>\n",
       "      <td>9.318</td>\n",
       "      <td>9.639</td>\n",
       "      <td>9.764</td>\n",
       "    </tr>\n",
       "    <tr>\n",
       "      <th>Korea, Rep.</th>\n",
       "      <td>5.760</td>\n",
       "      <td>9.521</td>\n",
       "      <td>10.200</td>\n",
       "      <td>10.370</td>\n",
       "      <td>10.347</td>\n",
       "      <td>11.470</td>\n",
       "      <td>11.840</td>\n",
       "      <td>11.681</td>\n",
       "      <td>11.798</td>\n",
       "    </tr>\n",
       "    <tr>\n",
       "      <th>Russian Federation</th>\n",
       "      <td>NaN</td>\n",
       "      <td>10.627</td>\n",
       "      <td>11.672</td>\n",
       "      <td>12.015</td>\n",
       "      <td>11.024</td>\n",
       "      <td>11.726</td>\n",
       "      <td>12.368</td>\n",
       "      <td>12.818</td>\n",
       "      <td>12.467</td>\n",
       "    </tr>\n",
       "    <tr>\n",
       "      <th>United States</th>\n",
       "      <td>19.323</td>\n",
       "      <td>20.208</td>\n",
       "      <td>19.237</td>\n",
       "      <td>18.489</td>\n",
       "      <td>17.192</td>\n",
       "      <td>17.485</td>\n",
       "      <td>17.019</td>\n",
       "      <td>16.287</td>\n",
       "      <td>16.390</td>\n",
       "    </tr>\n",
       "  </tbody>\n",
       "</table>\n",
       "</div>"
      ],
      "text/plain": [
       "Year                  1990    2000    2007    2008    2009    2010    2011  \\\n",
       "Country Name                                                                 \n",
       "China                2.168   2.697   5.154   5.417   5.723   6.554   7.235   \n",
       "France               6.420   5.944   5.763   5.687   5.434   5.425   5.074   \n",
       "Germany                NaN  10.096   9.488   9.506   8.815   9.276   9.120   \n",
       "Japan                8.873   9.622   9.783   9.450   8.619   9.150   9.318   \n",
       "Korea, Rep.          5.760   9.521  10.200  10.370  10.347  11.470  11.840   \n",
       "Russian Federation     NaN  10.627  11.672  12.015  11.024  11.726  12.368   \n",
       "United States       19.323  20.208  19.237  18.489  17.192  17.485  17.019   \n",
       "\n",
       "Year                  2012    2013  \n",
       "Country Name                        \n",
       "China                7.419   7.551  \n",
       "France               5.071   5.050  \n",
       "Germany              9.192   9.391  \n",
       "Japan                9.639   9.764  \n",
       "Korea, Rep.         11.681  11.798  \n",
       "Russian Federation  12.818  12.467  \n",
       "United States       16.287  16.390  "
      ]
     },
     "execution_count": 35,
     "metadata": {},
     "output_type": "execute_result"
    }
   ],
   "source": [
    "#Reshape the data, so that countries are now the vertical axis, and years the horizontal.\n",
    "PT = df.pivot_table(index='Year', columns='Country Name', values='emissions').transpose()\n",
    "PT"
   ]
  },
  {
   "cell_type": "markdown",
   "metadata": {},
   "source": [
    "For this plot, we use seaborn's `cubehelix_palette` function to provide access to the cubehelix color map. Because later we'll be making a heatmap, which takes as input a matplotlib `colormap` object, we duplicate some code here to show the color palette, and then make the color map."
   ]
  },
  {
   "cell_type": "code",
   "execution_count": 36,
   "metadata": {},
   "outputs": [
    {
     "data": {
      "image/png": "[encoded data removed]",
      "text/plain": [
       "<matplotlib.figure.Figure at 0x7f7f1e314c18>"
      ]
     },
     "metadata": {},
     "output_type": "display_data"
    }
   ],
   "source": [
    "#Show the colors, by calling cubehelix_palette with as_cmap=False\n",
    "colors = seaborn.cubehelix_palette(n_colors=10, light=1, as_cmap=False)\n",
    "seaborn.palplot(colors)"
   ]
  },
  {
   "cell_type": "code",
   "execution_count": 37,
   "metadata": {
    "collapsed": true
   },
   "outputs": [],
   "source": [
    "#Duplicate the code above, but use as_cmap=True to get a colormap\n",
    "cmap = seaborn.cubehelix_palette(n_colors=10, light=1, as_cmap=True)"
   ]
  },
  {
   "cell_type": "code",
   "execution_count": 38,
   "metadata": {},
   "outputs": [
    {
     "data": {
      "image/png": "[encoded data removed]",
      "text/plain": [
       "<matplotlib.figure.Figure at 0x7f7f1e24dc50>"
      ]
     },
     "metadata": {},
     "output_type": "display_data"
    }
   ],
   "source": [
    "fig = plt.figure()\n",
    "ax = fig.add_axes([0, 0, 1, 1])\n",
    "seaborn.heatmap(PT.as_matrix(), ax=ax, cmap=cmap)\n",
    "\n",
    "ax.set_xticklabels(PT.columns)\n",
    "ax.set_yticklabels(list(reversed(PT.index)), rotation=0)\n",
    "\n",
    "ax.set_xlabel('Year')\n",
    "ax.set_ylabel('Country')\n",
    "ax.set_title('CO2 Emissions (metric tons/capita) for selected countries')\n",
    "plt.show()"
   ]
  },
  {
   "cell_type": "markdown",
   "metadata": {},
   "source": [
    "This plot allows us to more easily digest the fact that CO2 emissions have grown in China, Korea, and Russia, while those in the United States and France have decreased, while those in Germany and Japan have remained relatively constant."
   ]
  },
  {
   "cell_type": "markdown",
   "metadata": {},
   "source": [
    "* [Diverging Colormap](http://www.kennethmoreland.com/color-maps/)\n",
    "\n",
    "A diverging colormap is good when your data takes positive and negative values relative to some reference value. (So, for example, the temperature relative to room temperature, or elevation relevative to sea level, are data sets where using a diverging colormap would be useful.)\n",
    "\n",
    "The plot above shows each country's _absolute_ CO2 emissions. What if we wanted to look at, say, how much higher/lower they were relative to some reference country? In that case, a diverging colormap would be good."
   ]
  },
  {
   "cell_type": "code",
   "execution_count": 39,
   "metadata": {
    "scrolled": false
   },
   "outputs": [
    {
     "data": {
      "text/html": [
       "<div>\n",
       "<table border=\"1\" class=\"dataframe\">\n",
       "  <thead>\n",
       "    <tr style=\"text-align: right;\">\n",
       "      <th>Year</th>\n",
       "      <th>1990</th>\n",
       "      <th>2000</th>\n",
       "      <th>2007</th>\n",
       "      <th>2008</th>\n",
       "      <th>2009</th>\n",
       "      <th>2010</th>\n",
       "      <th>2011</th>\n",
       "      <th>2012</th>\n",
       "      <th>2013</th>\n",
       "    </tr>\n",
       "    <tr>\n",
       "      <th>Country Name</th>\n",
       "      <th></th>\n",
       "      <th></th>\n",
       "      <th></th>\n",
       "      <th></th>\n",
       "      <th></th>\n",
       "      <th></th>\n",
       "      <th></th>\n",
       "      <th></th>\n",
       "      <th></th>\n",
       "    </tr>\n",
       "  </thead>\n",
       "  <tbody>\n",
       "    <tr>\n",
       "      <th>China</th>\n",
       "      <td>-6.705</td>\n",
       "      <td>-6.925</td>\n",
       "      <td>-4.629</td>\n",
       "      <td>-4.033</td>\n",
       "      <td>-2.896</td>\n",
       "      <td>-2.596</td>\n",
       "      <td>-2.083</td>\n",
       "      <td>-2.220</td>\n",
       "      <td>-2.213</td>\n",
       "    </tr>\n",
       "    <tr>\n",
       "      <th>France</th>\n",
       "      <td>-2.453</td>\n",
       "      <td>-3.678</td>\n",
       "      <td>-4.020</td>\n",
       "      <td>-3.763</td>\n",
       "      <td>-3.185</td>\n",
       "      <td>-3.725</td>\n",
       "      <td>-4.244</td>\n",
       "      <td>-4.568</td>\n",
       "      <td>-4.714</td>\n",
       "    </tr>\n",
       "    <tr>\n",
       "      <th>Germany</th>\n",
       "      <td>NaN</td>\n",
       "      <td>0.474</td>\n",
       "      <td>-0.295</td>\n",
       "      <td>0.056</td>\n",
       "      <td>0.196</td>\n",
       "      <td>0.126</td>\n",
       "      <td>-0.198</td>\n",
       "      <td>-0.447</td>\n",
       "      <td>-0.373</td>\n",
       "    </tr>\n",
       "    <tr>\n",
       "      <th>Japan</th>\n",
       "      <td>0.000</td>\n",
       "      <td>0.000</td>\n",
       "      <td>0.000</td>\n",
       "      <td>0.000</td>\n",
       "      <td>0.000</td>\n",
       "      <td>0.000</td>\n",
       "      <td>0.000</td>\n",
       "      <td>0.000</td>\n",
       "      <td>0.000</td>\n",
       "    </tr>\n",
       "    <tr>\n",
       "      <th>Korea, Rep.</th>\n",
       "      <td>-3.113</td>\n",
       "      <td>-0.101</td>\n",
       "      <td>0.417</td>\n",
       "      <td>0.920</td>\n",
       "      <td>1.728</td>\n",
       "      <td>2.320</td>\n",
       "      <td>2.522</td>\n",
       "      <td>2.042</td>\n",
       "      <td>2.034</td>\n",
       "    </tr>\n",
       "    <tr>\n",
       "      <th>Russian Federation</th>\n",
       "      <td>NaN</td>\n",
       "      <td>1.005</td>\n",
       "      <td>1.889</td>\n",
       "      <td>2.565</td>\n",
       "      <td>2.405</td>\n",
       "      <td>2.576</td>\n",
       "      <td>3.050</td>\n",
       "      <td>3.179</td>\n",
       "      <td>2.703</td>\n",
       "    </tr>\n",
       "    <tr>\n",
       "      <th>United States</th>\n",
       "      <td>10.450</td>\n",
       "      <td>10.586</td>\n",
       "      <td>9.454</td>\n",
       "      <td>9.039</td>\n",
       "      <td>8.573</td>\n",
       "      <td>8.335</td>\n",
       "      <td>7.701</td>\n",
       "      <td>6.648</td>\n",
       "      <td>6.626</td>\n",
       "    </tr>\n",
       "  </tbody>\n",
       "</table>\n",
       "</div>"
      ],
      "text/plain": [
       "Year                  1990    2000   2007   2008   2009   2010   2011   2012  \\\n",
       "Country Name                                                                   \n",
       "China               -6.705  -6.925 -4.629 -4.033 -2.896 -2.596 -2.083 -2.220   \n",
       "France              -2.453  -3.678 -4.020 -3.763 -3.185 -3.725 -4.244 -4.568   \n",
       "Germany                NaN   0.474 -0.295  0.056  0.196  0.126 -0.198 -0.447   \n",
       "Japan                0.000   0.000  0.000  0.000  0.000  0.000  0.000  0.000   \n",
       "Korea, Rep.         -3.113  -0.101  0.417  0.920  1.728  2.320  2.522  2.042   \n",
       "Russian Federation     NaN   1.005  1.889  2.565  2.405  2.576  3.050  3.179   \n",
       "United States       10.450  10.586  9.454  9.039  8.573  8.335  7.701  6.648   \n",
       "\n",
       "Year                 2013  \n",
       "Country Name               \n",
       "China              -2.213  \n",
       "France             -4.714  \n",
       "Germany            -0.373  \n",
       "Japan               0.000  \n",
       "Korea, Rep.         2.034  \n",
       "Russian Federation  2.703  \n",
       "United States       6.626  "
      ]
     },
     "execution_count": 39,
     "metadata": {},
     "output_type": "execute_result"
    }
   ],
   "source": [
    "#Pick a reference country\n",
    "sub_country = 'Japan'\n",
    "\n",
    "#Some pandas code which subtracts the values of\n",
    "#sub_country from each element in the pivot table,\n",
    "#while keeping the indexing correct.\n",
    "sub_df = PT.sub(PT.ix[sub_country, :], axis=1)\n",
    "\n",
    "sub_df"
   ]
  },
  {
   "cell_type": "markdown",
   "metadata": {},
   "source": [
    "For this plot, we use seaborn's `diverging_palette` function to choose a diverging colormap. Again, we need to re-call the code using ``as_cmap=True`` to get a colormap"
   ]
  },
  {
   "cell_type": "code",
   "execution_count": 40,
   "metadata": {},
   "outputs": [
    {
     "data": {
      "image/png": "[encoded data removed]",
      "text/plain": [
       "<matplotlib.figure.Figure at 0x7f7f1e170e10>"
      ]
     },
     "metadata": {},
     "output_type": "display_data"
    }
   ],
   "source": [
    "colors = seaborn.diverging_palette(150, 275, s=80, l=55, n=9)\n",
    "\n",
    "seaborn.palplot(colors)\n",
    "\n",
    "cmap = seaborn.diverging_palette(150, 275, s=80, l=55, n=9, as_cmap=True)"
   ]
  },
  {
   "cell_type": "code",
   "execution_count": 41,
   "metadata": {},
   "outputs": [
    {
     "data": {
      "image/png": "[encoded data removed]",
      "text/plain": [
       "<matplotlib.figure.Figure at 0x7f7f1e197208>"
      ]
     },
     "metadata": {},
     "output_type": "display_data"
    }
   ],
   "source": [
    "fig = plt.figure()\n",
    "ax = fig.add_axes([0, 0, 1, 1])\n",
    "seaborn.heatmap(sub_df.as_matrix(), ax=ax, cmap=cmap)\n",
    "\n",
    "ax.set_xticklabels(sub_df.columns)\n",
    "ax.set_yticklabels(list(reversed(sub_df.index)), rotation=0)\n",
    "\n",
    "ax.set_xlabel('Year')\n",
    "ax.set_ylabel('Country')\n",
    "ax.set_title('Relative CO2 Emissions (metric tons/capita) (compared to {0})'.format(sub_country))\n",
    "plt.show()"
   ]
  },
  {
   "cell_type": "markdown",
   "metadata": {},
   "source": [
    "What trends do you spot in CO2 emissions relative to the country you chose?"
   ]
  },
  {
   "cell_type": "markdown",
   "metadata": {},
   "source": [
    "Sharing Your Figures\n",
    "==========\n",
    "\n",
    "While Jupyter notebooks are a great way to display and interact with code and data, sometimes you may find yourself needing to send a figure to your advisor, or put it in your paper. How do you get figures out of matplotlib, and into other file formats? We use the ``figure.savefig()`` method to do so. But first, we should take a look at some common file formats, and when it's appropriate to use them."
   ]
  },
  {
   "cell_type": "markdown",
   "metadata": {},
   "source": [
    "> Choosing a Good File Format\n",
    "--------------\n",
    "\n",
    "We've all seen it before - a figure which is pixellated, or doesn't quite look right. Such issues commonly arise from using the wrong file format. Some useful formats are:\n",
    "\n",
    "* [Portable Document Format (PDF)](https://en.wikipedia.org/wiki/Portable_Document_Format)\n",
    "\n",
    " Everyone usually has some kind of pdf reader on their computer, making the pdf format useful when you want something \"which just works\".\n",
    "\n",
    "\n",
    "* [Scalable Vector Graphics (SVG)](https://en.wikipedia.org/wiki/Scalable_Vector_Graphics)\n",
    "\n",
    "    SVG is really nice when you want to make sure people can zoom in/out of your figure. This file format is supported by modern browsers. SVG is also stored as _text_, making it easy to parse SVG files using computer code.\n",
    "    \n",
    "* [Portable Network Graphics (PNG)](https://en.wikipedia.org/wiki/Portable_Network_Graphics)\n",
    "\n",
    "    A lossless compression file type. Personally, I have never used it."
   ]
  },
  {
   "cell_type": "markdown",
   "metadata": {},
   "source": [
    "> Saving Figures with ``figure.savefig()``\n",
    "------------\n",
    "\n",
    "Once we've made a matplotlib ``Figure``, we can save it using the ``.savefig()`` function. One super-useful keyword argument is ``bbox_inches``, which controls how much of the figure matplotlib tries to save. When set to ``tight``, matplotlib attempts to find the tightest bounding box which contains all the elements of the figure."
   ]
  },
  {
   "cell_type": "code",
   "execution_count": 44,
   "metadata": {
    "collapsed": true
   },
   "outputs": [],
   "source": [
    "#Save the figure from the previous section in pdf, svg, and png\n",
    "fig.savefig('emissions.pdf', bbox_inches='tight')"
   ]
  },
  {
   "cell_type": "code",
   "execution_count": null,
   "metadata": {
    "collapsed": true
   },
   "outputs": [],
   "source": []
  }
 ],
 "metadata": {
  "kernelspec": {
   "display_name": "Python [default]",
   "language": "python",
   "name": "python3"
  },
  "language_info": {
   "codemirror_mode": {
    "name": "ipython",
    "version": 3
   },
   "file_extension": ".py",
   "mimetype": "text/x-python",
   "name": "python",
   "nbconvert_exporter": "python",
   "pygments_lexer": "ipython3",
   "version": "3.5.3"
  }
 },
 "nbformat": 4,
 "nbformat_minor": 2
}
