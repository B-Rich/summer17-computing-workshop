{
 "cells": [
  {
   "cell_type": "markdown",
   "metadata": {
    "collapsed": true
   },
   "source": [
    "Visualizing Datasets\n",
    "=============\n",
    "\n",
    "At the end of the day, any scientific experiment -- either performed in the lab, or _in silico_ -- tends to produce data which is processed and analyzed. Sometimes, this analysis involves [visualizing the data](https://en.wikipedia.org/wiki/Data_visualization). In this lesson, you'll learn how to use Python's ``matplotlib`` package to make some visualizations.\n",
    "\n",
    "In this lesson, we'll be working with some data derived from a [data set](http://databank.worldbank.org/data/reports.aspx?source=2&series=EN.ATM.CO2E.PC) published by the World Bank on carbon dixoide emissions by country and year, measured in metric tons per capita.\n",
    "\n"
   ]
  },
  {
   "cell_type": "markdown",
   "metadata": {},
   "source": [
    "Anatomy of a Matplotlib Figure\n",
    "==============\n",
    "\n",
    "Let's take a look at one of the main tools used to do data visualization in Python: [matplotlib](https://matplotlib.org/index.html). ``matplotlib`` is designed to be Python's answer to plotting in ``MATLAB``. For this reason, if you've had to make plots in ``MATLAB``, you might find working with ``matplotlib`` to be somewhat familiar.\n",
    "\n",
    "Generally speaking, people interact with ``matplotlib`` in one of two ways:\n",
    "\n",
    "* They import a module, ``matplotlib.pyplot``, which exposes a whole bunch of plotting functions, and allows for more fine-tuned control over aspects of the plot\n",
    "\n",
    "* They import a module ``pylab``, which itself imports ``matplotlib`` and some other Python packages, to make the generation of plots a bit more like how ``MATLAB`` works.\n",
    "\n",
    "For the purposes of this lesson, you will be using the former approach, as ``matplotlib.pyplot`` provides a much more rich set of commands with which you can create plots. (For more of a discussion on this point, see this [blog post from DataCamp](https://www.datacamp.com/community/tutorials/matplotlib-tutorial-python).)\n",
    "\n",
    "Ready to start making some plots?\n",
    "\n"
   ]
  },
  {
   "cell_type": "markdown",
   "metadata": {},
   "source": [
    "> The ``matplotlib.pyplot`` ``figure`` object\n",
    "------------------\n",
    "\n",
    "The first thing you need to know about making a plot is the ``figure`` object. Think of it like a canvas that an artist paints on - it's a blank slate upon which you can put text, images, etc. The ``figure`` object is the fundamental thing we need to do plotting.\n",
    "\n",
    "Let's import ``matplotlib.pyplot`` and instantiate a figure. To do so, we first need to import the module. In addition, because we are working in a Jupyter notebook, it's often convenient to tell matplotlib that we want the plots to be rendered \"inline\" inside the notebook."
   ]
  },
  {
   "cell_type": "code",
   "execution_count": null,
   "metadata": {
    "collapsed": true
   },
   "outputs": [],
   "source": [
    "#Import matplotlib, and set rendering to be \"inline\"\n",
    "\n",
    "\n",
    "#Import numpy for later in the notebook\n"
   ]
  },
  {
   "cell_type": "markdown",
   "metadata": {},
   "source": [
    "Now, we can instantiate a ``figure``."
   ]
  },
  {
   "cell_type": "code",
   "execution_count": null,
   "metadata": {},
   "outputs": [],
   "source": [
    "#Instantiate a figure, and show it\n"
   ]
  },
  {
   "cell_type": "markdown",
   "metadata": {},
   "source": [
    "Hmm...that's interesting! We made a figure, but when we show it, we simply get a memory address! Why is that? Because, since the figure is a _canvas_, and we haven't put anything on it, there's nothing to show! "
   ]
  },
  {
   "cell_type": "markdown",
   "metadata": {},
   "source": [
    "> Adding axes to the figure\n",
    "------------\n",
    "\n",
    "Having instantiated a ``figure`` object, we can use the ``.add_axes()`` method to put axes on the figure."
   ]
  },
  {
   "cell_type": "code",
   "execution_count": null,
   "metadata": {},
   "outputs": [],
   "source": [
    "#Instantiate a figure, and add a standard set of axes\n"
   ]
  },
  {
   "cell_type": "markdown",
   "metadata": {},
   "source": [
    "The ``add_axes()`` method provides us with a non-trivial degree of control over the figure. For example, suppose we wanted to put two sets of axes. To do so, we call ``add_axes()`` twice."
   ]
  },
  {
   "cell_type": "code",
   "execution_count": null,
   "metadata": {},
   "outputs": [],
   "source": [
    "#Instantiate a figure\n",
    "\n",
    "\n",
    "#Add an axis for the left half of the figure\n",
    "\n",
    "\n",
    "#Add an axis for the right half of the figure\n",
    "\n"
   ]
  },
  {
   "cell_type": "markdown",
   "metadata": {},
   "source": [
    "Now that we can add axes to our figures, we can start making some plots!"
   ]
  },
  {
   "cell_type": "markdown",
   "metadata": {},
   "source": [
    "Some Simple Plots\n",
    "============"
   ]
  },
  {
   "cell_type": "markdown",
   "metadata": {},
   "source": [
    "> Line Plot\n",
    "-----------\n",
    "\n",
    "One of the most basic -- but useful -- plots is a _line plot_. If we have an ``Axes`` object, we can use its ``plot`` method to plot data. Below, you will take some data about historical US CO2 emissions, and make a line plot."
   ]
  },
  {
   "cell_type": "code",
   "execution_count": null,
   "metadata": {},
   "outputs": [],
   "source": [
    "#Data derived from the World Bank data set\n",
    "\n",
    "years = [1990, 2000, 2007, 2008, 2009, 2010, 2011, 2012, 2013]\n",
    "\n",
    "#Uses a Python *list comprehension* to cast the original data\n",
    "#(which is formatted as a string!) into a float with 2 decimal\n",
    "#place\n",
    "us_emissions = [np.round(float(x), 2) for x in ['19.3233681671961', '20.2076147591466', '19.2374604467856',\n",
    "       '18.4892337521751', '17.1923671443447', '17.4848031479796',\n",
    "       '17.0194385160343', '16.28705288144', '16.389757994879']]"
   ]
  },
  {
   "cell_type": "code",
   "execution_count": null,
   "metadata": {},
   "outputs": [],
   "source": [
    "#Instantiate a figure\n",
    "\n",
    "#Add an axis\n",
    "\n",
    "#Plot emissions versus years\n"
   ]
  },
  {
   "cell_type": "markdown",
   "metadata": {},
   "source": [
    "This is a pretty minimal plot. There are several things we might like to do to it, to make it a bit more legible:\n",
    "\n",
    "* Put markers at the data points\n",
    "* Make the line dashed, so that people don't think there's X-values in-between the integers\n",
    "* Add labels to the x,y-axes\n",
    "* Add a title\n",
    "\n",
    "Using the ``plot`` method of an ``Axes`` object, doing so is straightforward! The first two points are accomplished using the ``marker``, ``markersize``, ``linestyle`` keywords, and the last two using other methods built into the ``Axes`` object."
   ]
  },
  {
   "cell_type": "code",
   "execution_count": null,
   "metadata": {},
   "outputs": [],
   "source": [
    "#Draw the minimal figure\n",
    "\n",
    "\n",
    "#Change marker, markersize, and linestyle\n",
    "\n",
    "#Add a label to the x-axis\n",
    "\n",
    "\n",
    "#Add a label to the y-axis\n",
    "\n",
    "#Add a  title\n",
    "\n",
    "\n",
    "#Adjust x limits for easier viewing (1990, 2015)\n",
    "\n",
    "#Turn off the frame (the box around the plot)\n"
   ]
  },
  {
   "cell_type": "markdown",
   "metadata": {},
   "source": [
    "> Bar Plot\n",
    "-----------\n",
    "\n",
    "To make a bar plot, we use the ``bar`` method of an ``Axes`` object. Below, you'll make a bar plot of carbon dioxide emissions in 2012 for a few countries.\n",
    "\n",
    "The ``bar`` method is a bit strange in that it request as input a list of scalars and a list of bar heights, and\n",
    "then outputs the bar plot. Which means that if we want our x-labels to be _categorical_, then we need to explicitly\n",
    "manipulate the plot to do so."
   ]
  },
  {
   "cell_type": "code",
   "execution_count": null,
   "metadata": {
    "collapsed": true
   },
   "outputs": [],
   "source": [
    "#2012 carbon dioxide emissions (metric tons per capita) for a few countries\n",
    "\n",
    "countries = ['Qatar', 'Kuwait', 'Luxembourg', 'United Arab Emirates', 'Saudi Arabia', 'Australia', 'United States',\\\n",
    "             'Canada', 'Russian Federation']\n",
    "\n",
    "emissions = [46.697477, 29.578729, 20.084219, 19.252223, 19.188937, 16.519386, 16.287053, 13.858827, 12.818345]"
   ]
  },
  {
   "cell_type": "code",
   "execution_count": null,
   "metadata": {},
   "outputs": [],
   "source": [
    "#Make a figure\n",
    "\n",
    "#Add an axis\n",
    "\n",
    "#Use the bar() function to make the bar plot\n",
    "\n",
    "#Adjust the x-ticks\n",
    "#Set the ticks at the number of countries\n",
    "#Make the tick labels the country names, rotated at 45 degrees\n",
    "\n",
    "\n",
    "#Put labels on the axes, and make a title\n",
    "\n",
    "\n",
    "#Turn off the frame\n",
    "\n",
    "#Suppress some output, and show the plot\n"
   ]
  },
  {
   "cell_type": "markdown",
   "metadata": {},
   "source": [
    "> Histogram\n",
    "-----------\n",
    "\n",
    "Another useful visualization is a histogram. We can make one using the ``hist()`` method of an ``Axes`` object. Below, we expand our view of the emissions information we plotted above, and look at 2012 CO2 emissions over all countries for which the World Bank had information."
   ]
  },
  {
   "cell_type": "code",
   "execution_count": null,
   "metadata": {
    "collapsed": true
   },
   "outputs": [],
   "source": [
    "#Load 2012 data from the data file\n",
    "emissions = np.loadtxt('2012_emissions_data.txt')"
   ]
  },
  {
   "cell_type": "markdown",
   "metadata": {},
   "source": [
    "As a sanity check, let's see how many entries are in this dataset:"
   ]
  },
  {
   "cell_type": "code",
   "execution_count": null,
   "metadata": {},
   "outputs": [],
   "source": [
    "len(emissions)"
   ]
  },
  {
   "cell_type": "markdown",
   "metadata": {},
   "source": [
    "There are approximately 195 recognized countries in the world today, so this number is in the right ballpark. (It may include other sovereign entities which are not countries.)"
   ]
  },
  {
   "cell_type": "code",
   "execution_count": null,
   "metadata": {},
   "outputs": [],
   "source": [
    "#Make a figure\n",
    "\n",
    "\n",
    "#Add an axis\n",
    "\n",
    "\n",
    "#Use the ax.hist() function to make a histogram.\n",
    "#NOTE: Adjust the range if need be.\n",
    "\n",
    "\n",
    "#Label the axes\n",
    "\n",
    "#Change the y-scale to make the visualization a bit\n",
    "#easier to understand.\n",
    "\n",
    "\n",
    "#Show the plot"
   ]
  },
  {
   "cell_type": "markdown",
   "metadata": {},
   "source": [
    "Improving Figure Aesthetics\n",
    "=============="
   ]
  },
  {
   "cell_type": "markdown",
   "metadata": {},
   "source": [
    "> Using ``seaborn`` to change default aesthetics\n",
    "-------------\n",
    "\n",
    "\n",
    "``Seaborn`` is a useful package for improving figure aesthetics. Even if you don't want to use some of its more advanced functionality, know that simply calling ``import seaborn`` overrides a lot of matplotlib's default behaviors, making your plots much more visually pleasing."
   ]
  },
  {
   "cell_type": "code",
   "execution_count": null,
   "metadata": {
    "collapsed": true
   },
   "outputs": [],
   "source": [
    "#Import seaborn\n"
   ]
  },
  {
   "cell_type": "code",
   "execution_count": null,
   "metadata": {},
   "outputs": [],
   "source": [
    "#Check the version\n"
   ]
  },
  {
   "cell_type": "code",
   "execution_count": null,
   "metadata": {
    "scrolled": false
   },
   "outputs": [],
   "source": [
    "#Make a figure and standard axes\n",
    "#See how they are different from earlier?"
   ]
  },
  {
   "cell_type": "markdown",
   "metadata": {},
   "source": [
    "> Choosing a Good Colormap with ``seaborn.color_palette``\n",
    "--------------\n",
    "\n",
    "Another compelling reason to use seaborn is that is gives you access to many [color palettes](http://seaborn.pydata.org/tutorial/color_palettes.html), which is useful when you want to make sure the colors you use on your plots are harmonious with the kind of data you are plotting. We will look at three major data types: categorical, sequential, and diverging, and show how ``seaborn`` can be used to pick a good color palette for each type."
   ]
  },
  {
   "cell_type": "markdown",
   "metadata": {},
   "source": [
    "[Categorical Data](https://en.wikipedia.org/wiki/Categorical_variable)\n",
    "------------\n",
    "\n",
    "Data is _categorical_ when it is related to a set of fixed classifications, or categories. For example, the US Census collects a substantial amount of categorical data about the US population.\n",
    "\n",
    "Sometimes, we want to take numerical data and make sense of it as a function of some category. In the World Bank data set, we will look at CO2 emissions by country.\n",
    "\n",
    "In this part of the lesson, we make use of the ``pandas`` library, which is intended to help researchers work with data, through the use of \"dataframes\" (think \"tables\"). In particular, ``pandas`` has a variety of ``read_X`` functions, which allow you to read CSV files, or even Excel files!"
   ]
  },
  {
   "cell_type": "code",
   "execution_count": null,
   "metadata": {
    "collapsed": true
   },
   "outputs": [],
   "source": [
    "#Import pandas\n"
   ]
  },
  {
   "cell_type": "code",
   "execution_count": null,
   "metadata": {},
   "outputs": [],
   "source": [
    "#Read in worldwide_emissions.csv\n",
    "\n",
    "\n",
    "#Display the first few rows\n"
   ]
  },
  {
   "cell_type": "markdown",
   "metadata": {
    "collapsed": true
   },
   "source": [
    "Colormaps for categorical data should themselves not be distracting. In particular, if we use a color map which has substantial variation in the perceived brightness of the colors, then viewers of our plot will tend to focus more on that, than the data conveyed!\n",
    "\n",
    "To that end, we make use of the [\"HUSL\" color map](http://www.boronine.com/2012/03/26/Color-Spaces-for-Human-Beings/). The perceived brightness of the colors doesn't change as we scan the colors, making this colormap great for categorical data.\n",
    "\n",
    "Seaborn provides access to a function, ``color_palette``, which allows us to create a HUSL color palette with enough colors, one for each country in our dataframe.\n",
    "\n",
    "One you have a color palette, you can use the `palplot` function to display it. (Great for checking that the colors are what you want!)"
   ]
  },
  {
   "cell_type": "code",
   "execution_count": null,
   "metadata": {},
   "outputs": [],
   "source": [
    "#Determine how many unique country names are in the dataframe\n",
    "num_countries =len(df['Country Name'].unique())\n",
    "\n",
    "#Make a HUSL color palette\n",
    "\n",
    "\n",
    "#Display the palette\n"
   ]
  },
  {
   "cell_type": "markdown",
   "metadata": {},
   "source": [
    "Now that we have the colors and the data, we are going to make a figure showing CO2 emissions over the years for each country in the dataset. "
   ]
  },
  {
   "cell_type": "code",
   "execution_count": null,
   "metadata": {
    "scrolled": false
   },
   "outputs": [],
   "source": [
    "#Make a standard figure and axes\n",
    "\n",
    "\n",
    "#Initialize a counter for the color,\n",
    "#noting Python uses 0-indexing\n",
    "\n",
    "\n",
    "#Loop over the countries in the dataframe\n",
    "#and plot their emissions vs year\n",
    "for country in df['Country Name'].unique():\n",
    "    X = df[df['Country Name'] == country]['Year']\n",
    "    Y = df[df['Country Name'] == country]['emissions']\n",
    "    \n",
    "    \n",
    "    #Plot X vs Y, setting the color, linestyle, marker, clip_on, and **label**\n",
    "\n",
    "    #Don't forget to increment the counter!\n",
    "\n",
    "\n",
    "#Put in a legend\n"
   ]
  },
  {
   "cell_type": "markdown",
   "metadata": {},
   "source": [
    "[Sequential Color Palette](http://www.personal.psu.edu/cab38/ColorSch/SchHTMLs/CBColorSeq.html)\n",
    "--------------------\n",
    "\n",
    "A sequential color palette is useful when you have an ordering on numeric data, _and_ your data do not take both positive and negative values.\n",
    "\n",
    "The plot above does a good job of using lines to indicate increases/decreases in CO2 emissions over time. However, because the amount of emisssions can never go below 0, it might make sense to plot this data in a different way, using a heatmap."
   ]
  },
  {
   "cell_type": "code",
   "execution_count": null,
   "metadata": {},
   "outputs": [],
   "source": [
    "#Reshape the data, so that countries are now the vertical axis, and years the horizontal.\n",
    "PT = df.pivot_table(index='Year', columns='Country Name', values='emissions').transpose()\n",
    "PT"
   ]
  },
  {
   "cell_type": "markdown",
   "metadata": {},
   "source": [
    "For this plot, we use seaborn's `cubehelix_palette` function to provide access to the cubehelix color map. Because later we'll be making a heatmap, which takes as input a matplotlib `colormap` object, we duplicate some code here to show the color palette, and then make the color map."
   ]
  },
  {
   "cell_type": "code",
   "execution_count": null,
   "metadata": {},
   "outputs": [],
   "source": [
    "#Show the colors, by calling cubehelix_palette with as_cmap=False\n"
   ]
  },
  {
   "cell_type": "code",
   "execution_count": null,
   "metadata": {
    "collapsed": true
   },
   "outputs": [],
   "source": [
    "#Duplicate the code above, but use as_cmap=True to get a colormap\n"
   ]
  },
  {
   "cell_type": "code",
   "execution_count": null,
   "metadata": {},
   "outputs": [],
   "source": [
    "#Make a standard figure and axes\n",
    "\n",
    "\n",
    "#Use the seaborn.heatmap() function to display PT.as_matrix(),\n",
    "#setting cmap as the cmap above\n",
    "\n",
    "#Adjust the x and y-tick labels\n",
    "\n",
    "\n",
    "#Set x,y labels, and a title\n",
    "\n",
    "#Show the plot"
   ]
  },
  {
   "cell_type": "markdown",
   "metadata": {},
   "source": [
    "This plot allows us to more easily digest the fact that CO2 emissions have grown in China, Korea, and Russia, while those in the United States and France have decreased, while those in Germany and Japan have remained relatively constant."
   ]
  },
  {
   "cell_type": "markdown",
   "metadata": {},
   "source": [
    "[Diverging Colormap](http://www.kennethmoreland.com/color-maps/)\n",
    "-------------\n",
    "\n",
    "A diverging colormap is good when your data takes positive and negative values relative to some reference value. (So, for example, the temperature relative to room temperature, or elevation relevative to sea level, are data sets where using a diverging colormap would be useful.)\n",
    "\n",
    "The plot above shows each country's _absolute_ CO2 emissions. What if we wanted to look at, say, how much higher/lower they were relative to some reference country? In that case, a diverging colormap would be good."
   ]
  },
  {
   "cell_type": "code",
   "execution_count": null,
   "metadata": {
    "scrolled": false
   },
   "outputs": [],
   "source": [
    "#Pick a reference country, and assign it\n",
    "#to sub_country\n",
    "\n",
    "\n",
    "#Some pandas code which subtracts the values of\n",
    "#sub_country from each element in the pivot table,\n",
    "#while keeping the indexing correct.\n",
    "sub_df = PT.sub(PT.ix[sub_country, :], axis=1)\n",
    "\n",
    "sub_df"
   ]
  },
  {
   "cell_type": "markdown",
   "metadata": {},
   "source": [
    "For this plot, we use seaborn's `diverging_palette` function to choose a diverging colormap. Again, we need to re-call the code using ``as_cmap=True`` to get a colormap"
   ]
  },
  {
   "cell_type": "code",
   "execution_count": null,
   "metadata": {},
   "outputs": [],
   "source": [
    "#Create a color map using the diverging_palette function,\n",
    "#with inputs (150, 275, s=80, l=55, n=9)\n",
    "\n",
    "\n",
    "#Display the color map\n",
    "\n",
    "\n",
    "#Repeat the code above, but use as_cmap=True to get a cmap\n"
   ]
  },
  {
   "cell_type": "code",
   "execution_count": null,
   "metadata": {},
   "outputs": [],
   "source": [
    "#Instantiate a standard figure and axes\n",
    "\n",
    "\n",
    "#Make a heatmap of sub_df.as_matrix()\n",
    "\n",
    "\n",
    "#Chang the xticklabels to be sub_df.columns\n",
    "#Adjust the yticklabels to be sub_df.index\n",
    "#(May need to reverse)\n",
    "\n",
    "#Set x,y labels and title.\n",
    "#Use .format(sub_country) to indicate what country\n",
    "#the data is being compared to\n",
    "\n",
    "#Show the plot"
   ]
  },
  {
   "cell_type": "markdown",
   "metadata": {},
   "source": [
    "What trends do you spot in CO2 emissions relative to the country you chose?"
   ]
  },
  {
   "cell_type": "markdown",
   "metadata": {},
   "source": [
    "Sharing Your Figures\n",
    "==========\n",
    "\n",
    "While Jupyter notebooks are a great way to display and interact with code and data, sometimes you may find yourself needing to send a figure to your advisor, or put it in your paper. How do you get figures out of matplotlib, and into other file formats? We use the ``figure.savefig()`` method to do so. But first, we should take a look at some common file formats, and when it's appropriate to use them."
   ]
  },
  {
   "cell_type": "markdown",
   "metadata": {},
   "source": [
    "> Choosing a Good File Format\n",
    "--------------\n",
    "\n",
    "We've all seen it before - a figure which is pixellated, or doesn't quite look right. Such issues commonly arise from using the wrong file format. Some useful formats are:\n",
    "\n",
    "* [Portable Document Format (PDF)](https://en.wikipedia.org/wiki/Portable_Document_Format)\n",
    "\n",
    " Everyone usually has some kind of pdf reader on their computer, making the pdf format useful when you want something \"which just works\".\n",
    "\n",
    "\n",
    "* [Scalable Vector Graphics (SVG)](https://en.wikipedia.org/wiki/Scalable_Vector_Graphics)\n",
    "\n",
    "    SVG is really nice when you want to make sure people can zoom in/out of your figure. This file format is supported by modern browsers. SVG is also stored as _text_, making it easy to parse SVG files using computer code.\n",
    "    \n",
    "* [Portable Network Graphics (PNG)](https://en.wikipedia.org/wiki/Portable_Network_Graphics)\n",
    "\n",
    "    A lossless compression file type. Personally, I have never used it."
   ]
  },
  {
   "cell_type": "markdown",
   "metadata": {},
   "source": [
    "> Saving Figures with ``figure.savefig()``\n",
    "------------\n",
    "\n",
    "Once we've made a matplotlib ``Figure``, we can save it using the ``.savefig()`` function. One super-useful keyword argument is ``bbox_inches``, which controls how much of the figure matplotlib tries to save. When set to ``tight``, matplotlib attempts to find the tightest bounding box which contains all the elements of the figure."
   ]
  },
  {
   "cell_type": "code",
   "execution_count": null,
   "metadata": {
    "collapsed": true
   },
   "outputs": [],
   "source": [
    "#Save the figure from the previous section in pdf, svg, and png\n",
    "#You can use a loop!"
   ]
  }
 ],
 "metadata": {
  "kernelspec": {
   "display_name": "Python [default]",
   "language": "python",
   "name": "python3"
  },
  "language_info": {
   "codemirror_mode": {
    "name": "ipython",
    "version": 3
   },
   "file_extension": ".py",
   "mimetype": "text/x-python",
   "name": "python",
   "nbconvert_exporter": "python",
   "pygments_lexer": "ipython3",
   "version": "3.5.3"
  }
 },
 "nbformat": 4,
 "nbformat_minor": 2
}
