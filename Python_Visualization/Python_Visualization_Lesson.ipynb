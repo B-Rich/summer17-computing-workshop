{
 "cells": [
  {
   "cell_type": "markdown",
   "metadata": {
    "collapsed": true
   },
   "source": [
    "Visualizing Datasets\n",
    "=============\n",
    "\n",
    "At the end of the day, any scientific experiment -- either performed in the lab, or _in silico_ -- tends to produce data which is processed and analyzed. Sometimes, this analysis involves [visualizing the data](https://en.wikipedia.org/wiki/Data_visualization). In this lesson, you'll learn how to use Python's ``matplotlib`` package to make some visualizations.\n",
    "\n",
    "In this lesson, we'll be working with some data derived from a [data set](http://databank.worldbank.org/data/reports.aspx?source=2&series=EN.ATM.CO2E.PC) published by the World Bank on carbon dixoide emissions by country and year, measured in metric tons per capita.\n",
    "\n"
   ]
  },
  {
   "cell_type": "markdown",
   "metadata": {},
   "source": [
    "Python Basics\n",
    "=========="
   ]
  },
  {
   "cell_type": "markdown",
   "metadata": {},
   "source": [
    "Because this lesson uses Python, and it's the first of the workshop, we need to take a little bit of time to explain some basics of programming in Python. A more detailed lesson is available through [Software Carpentry](http://swcarpentry.github.io/python-novice-inflammation/).\n",
    "\n",
    "* Importing Python Packages\n",
    "\n",
    "Generally speaking, to import a package ``foo``, you use ``import foo``. Here, we'll work with the ``numpy`` package (aka, _numerical Python_)."
   ]
  },
  {
   "cell_type": "code",
   "execution_count": 1,
   "metadata": {
    "collapsed": true
   },
   "outputs": [],
   "source": [
    "import numpy"
   ]
  },
  {
   "cell_type": "markdown",
   "metadata": {},
   "source": [
    "However, you may wish to use a different name for the package when you call it. (This is especially useful for packages with longer names!) Thankfully, Python import statements support this kind of renaming, using ``import foo as bar``:"
   ]
  },
  {
   "cell_type": "code",
   "execution_count": 2,
   "metadata": {
    "collapsed": true
   },
   "outputs": [],
   "source": [
    "import numpy as np"
   ]
  },
  {
   "cell_type": "markdown",
   "metadata": {},
   "source": [
    "You may also want to import _specific_ functions only, without pulling in the entire package. You can do so using ``from foo import bar``:"
   ]
  },
  {
   "cell_type": "code",
   "execution_count": 3,
   "metadata": {
    "collapsed": true
   },
   "outputs": [],
   "source": [
    "from numpy import linalg"
   ]
  },
  {
   "cell_type": "markdown",
   "metadata": {},
   "source": [
    "Now we have access to only functions declared in the ``linalg`` module within ``numpy``."
   ]
  },
  {
   "cell_type": "markdown",
   "metadata": {},
   "source": [
    "* Commenting code\n",
    "\n",
    "Few-line comments in Python are preceded by a pound sign:"
   ]
  },
  {
   "cell_type": "code",
   "execution_count": 4,
   "metadata": {
    "collapsed": true
   },
   "outputs": [],
   "source": [
    "#My awesome comment\n",
    "import numpy"
   ]
  },
  {
   "cell_type": "markdown",
   "metadata": {},
   "source": [
    "For multi-line comments, use ''' to start the comment, and ''' to close it:"
   ]
  },
  {
   "cell_type": "code",
   "execution_count": 5,
   "metadata": {
    "collapsed": true
   },
   "outputs": [],
   "source": [
    "'''Some multi-line comment\n",
    "is going to go here.'''\n",
    "import numpy"
   ]
  },
  {
   "cell_type": "markdown",
   "metadata": {},
   "source": [
    "* Assigning variable names\n",
    "\n",
    "Variables in Python are declared and _typed_ dynamically. That is, if I want to create a variable ``height``, and assign it a value of 10, I do"
   ]
  },
  {
   "cell_type": "code",
   "execution_count": 8,
   "metadata": {
    "collapsed": true
   },
   "outputs": [],
   "source": [
    "height = 10.0"
   ]
  },
  {
   "cell_type": "markdown",
   "metadata": {},
   "source": [
    "I can check the _type_ of height using the ``type()`` function:"
   ]
  },
  {
   "cell_type": "code",
   "execution_count": 9,
   "metadata": {},
   "outputs": [
    {
     "data": {
      "text/plain": [
       "float"
      ]
     },
     "execution_count": 9,
     "metadata": {},
     "output_type": "execute_result"
    }
   ],
   "source": [
    "type(height)"
   ]
  },
  {
   "cell_type": "markdown",
   "metadata": {},
   "source": [
    "We can also do arithmetic and other mathematical operations:"
   ]
  },
  {
   "cell_type": "code",
   "execution_count": 10,
   "metadata": {},
   "outputs": [
    {
     "data": {
      "text/plain": [
       "20.0"
      ]
     },
     "execution_count": 10,
     "metadata": {},
     "output_type": "execute_result"
    }
   ],
   "source": [
    "height * 2"
   ]
  },
  {
   "cell_type": "code",
   "execution_count": 11,
   "metadata": {},
   "outputs": [
    {
     "data": {
      "text/plain": [
       "2.0"
      ]
     },
     "execution_count": 11,
     "metadata": {},
     "output_type": "execute_result"
    }
   ],
   "source": [
    "height / 5"
   ]
  },
  {
   "cell_type": "code",
   "execution_count": 12,
   "metadata": {
    "collapsed": true
   },
   "outputs": [],
   "source": [
    "twice_as_high = 2 * height"
   ]
  },
  {
   "cell_type": "markdown",
   "metadata": {},
   "source": [
    "If we check the value of ``twice_as_high``, it will be two times that of ``height``:"
   ]
  },
  {
   "cell_type": "code",
   "execution_count": 13,
   "metadata": {},
   "outputs": [
    {
     "data": {
      "text/plain": [
       "20.0"
      ]
     },
     "execution_count": 13,
     "metadata": {},
     "output_type": "execute_result"
    }
   ],
   "source": [
    "twice_as_high"
   ]
  },
  {
   "cell_type": "markdown",
   "metadata": {},
   "source": [
    "Suppose we change ``height`` to be 40. What value do you think ``twice_as_high`` will have?"
   ]
  },
  {
   "cell_type": "code",
   "execution_count": 14,
   "metadata": {
    "collapsed": true
   },
   "outputs": [],
   "source": [
    "height = 40"
   ]
  },
  {
   "cell_type": "code",
   "execution_count": 15,
   "metadata": {},
   "outputs": [
    {
     "data": {
      "text/plain": [
       "20.0"
      ]
     },
     "execution_count": 15,
     "metadata": {},
     "output_type": "execute_result"
    }
   ],
   "source": [
    "twice_as_high"
   ]
  },
  {
   "cell_type": "markdown",
   "metadata": {},
   "source": [
    "Python variables are not updated dynamically. However, repeated assignments to the same variable name _do_ update its value!"
   ]
  },
  {
   "cell_type": "code",
   "execution_count": 17,
   "metadata": {
    "collapsed": true
   },
   "outputs": [],
   "source": [
    "twice_as_high = 2 * height"
   ]
  },
  {
   "cell_type": "code",
   "execution_count": 18,
   "metadata": {},
   "outputs": [
    {
     "data": {
      "text/plain": [
       "80"
      ]
     },
     "execution_count": 18,
     "metadata": {},
     "output_type": "execute_result"
    }
   ],
   "source": [
    "twice_as_high"
   ]
  },
  {
   "cell_type": "markdown",
   "metadata": {},
   "source": [
    "* Writing loops\n",
    "\n",
    "Very often, we need to write a loop of some kind to repeat an action."
   ]
  },
  {
   "cell_type": "markdown",
   "metadata": {},
   "source": [
    "Anatomy of a Matplotlib Figure\n",
    "==============\n",
    "\n",
    "Now that you are comfortable with using Python, let's take a look at one of the main tools used to do data visualization in Python: [matplotlib](https://matplotlib.org/index.html). ``matplotlib`` is designed to be Python's answer to plotting in ``MATLAB``. For this reason, if you've had to make plots in ``MATLAB``, you might find working with ``matplotlib`` to be somewhat familiar.\n",
    "\n",
    "Generally speaking, people interact with ``matplotlib`` in one of two ways:\n",
    "\n",
    "* They import a module, ``matplotlib.pyplot``, which exposes a whole bunch of plotting functions, and allows for more fine-tuned control over aspects of the plot\n",
    "\n",
    "* They import a module ``pylab``, which itself imports ``matplotlib`` and some other Python packages, to make the generation of plots a bit more like how ``MATLAB`` works.\n",
    "\n",
    "For the purposes of this lesson, you will be using the former approach, as ``matplotlib.pyplot`` provides a much more rich set of commands with which you can create plots. (For more of a discussion on this point, see this [blog post from DataCamp](https://www.datacamp.com/community/tutorials/matplotlib-tutorial-python).)\n",
    "\n",
    "Ready to start making some plots?\n",
    "\n"
   ]
  },
  {
   "cell_type": "markdown",
   "metadata": {},
   "source": [
    "> The ``matplotlib.pyplot`` ``figure`` object\n",
    "------------------\n",
    "\n",
    "The first thing you need to know about making a plot is the ``figure`` object. Think of it like a canvas that an artist paints on - it's a blank slate upon which you can put text, images, etc. The ``figure`` object is the fundamental thing we need to do plotting.\n",
    "\n",
    "Let's import ``matplotlib.pyplot`` and instantiate a figure. To do so, we first need to import the module. In addition, because we are working in a Jupyter notebook, it's often convenient to tell matplotlib that we want the plots to be rendered \"inline\" inside the notebook."
   ]
  },
  {
   "cell_type": "code",
   "execution_count": 19,
   "metadata": {
    "collapsed": true
   },
   "outputs": [],
   "source": [
    "#Import matplotlib, and set rendering to be \"inline\"\n",
    "import matplotlib.pyplot as plt\n",
    "\n",
    "%matplotlib inline\n",
    "\n",
    "#Import numpy for later in the notebook\n",
    "import numpy as np"
   ]
  },
  {
   "cell_type": "markdown",
   "metadata": {},
   "source": [
    "Now, we can instantiate a ``figure``."
   ]
  },
  {
   "cell_type": "code",
   "execution_count": 20,
   "metadata": {},
   "outputs": [
    {
     "data": {
      "text/plain": [
       "<matplotlib.figure.Figure at 0x7f6233698ba8>"
      ]
     },
     "metadata": {},
     "output_type": "display_data"
    }
   ],
   "source": [
    "#Instantiate a figure, and show it\n",
    "fig = plt.figure()\n",
    "\n",
    "plt.show()"
   ]
  },
  {
   "cell_type": "markdown",
   "metadata": {},
   "source": [
    "Hmm...that's interesting! We made a figure, but when we show it, we simply get a memory address! Why is that? Because, since the figure is a _canvas_, and we haven't put anything on it, there's nothing to show! "
   ]
  },
  {
   "cell_type": "markdown",
   "metadata": {},
   "source": [
    "> Adding axes to the figure\n",
    "------------\n",
    "\n",
    "Having instantiated a ``figure`` object, we can use the ``.add_axes()`` method to put axes on the figure."
   ]
  },
  {
   "cell_type": "code",
   "execution_count": 23,
   "metadata": {},
   "outputs": [
    {
     "data": {
      "image/png": "[encoded data removed]",
      "text/plain": [
       "<matplotlib.figure.Figure at 0x7f62336c4da0>"
      ]
     },
     "metadata": {},
     "output_type": "display_data"
    }
   ],
   "source": [
    "#Instantiate a figure, and add a standard set of axes\n",
    "fig = plt.figure()\n",
    "\n",
    "ax = fig.add_axes([0, 0, 1, 1])\n",
    "\n",
    "plt.show()"
   ]
  },
  {
   "cell_type": "markdown",
   "metadata": {},
   "source": [
    "The ``add_axes()`` method provides us with a non-trivial degree of control over the figure. For example, suppose we wanted to put two sets of axes. To do so, we call ``add_axes()`` twice."
   ]
  },
  {
   "cell_type": "code",
   "execution_count": 29,
   "metadata": {},
   "outputs": [
    {
     "data": {
      "image/png": "[encoded data removed]",
      "text/plain": [
       "<matplotlib.figure.Figure at 0x7f622fbd38d0>"
      ]
     },
     "metadata": {},
     "output_type": "display_data"
    }
   ],
   "source": [
    "#Instantiate a figure\n",
    "fig = plt.figure()\n",
    "\n",
    "#Add an axis for the left half of the figure\n",
    "ax = fig.add_axes([0, 0, .5, .5])\n",
    "\n",
    "#Add an axis for the right half of the figure\n",
    "ax2 = fig.add_axes([.5, .5, .5, .5])\n"
   ]
  },
  {
   "cell_type": "markdown",
   "metadata": {},
   "source": [
    "Now that we can add axes to our figures, we can start making some plots!"
   ]
  },
  {
   "cell_type": "markdown",
   "metadata": {},
   "source": [
    "Some Simple Plots\n",
    "============"
   ]
  },
  {
   "cell_type": "markdown",
   "metadata": {},
   "source": [
    "> Line Plot\n",
    "-----------\n",
    "\n",
    "One of the most basic -- but useful -- plots is a _line plot_. If we have an ``Axes`` object, we can use its ``plot`` method to plot data. Below, you will take some data about historical US CO2 emissions, and make a line plot."
   ]
  },
  {
   "cell_type": "code",
   "execution_count": 30,
   "metadata": {
    "collapsed": true
   },
   "outputs": [],
   "source": [
    "#Data derived from the World Bank data set\n",
    "\n",
    "years = [1990, 2000, 2007, 2008, 2009, 2010, 2011, 2012, 2013]\n",
    "\n",
    "us_emissions = [np.round(float(x), 2) for x in ['19.3233681671961', '20.2076147591466', '19.2374604467856',\n",
    "       '18.4892337521751', '17.1923671443447', '17.4848031479796',\n",
    "       '17.0194385160343', '16.28705288144', '16.389757994879']]"
   ]
  },
  {
   "cell_type": "code",
   "execution_count": 31,
   "metadata": {},
   "outputs": [
    {
     "data": {
      "text/plain": [
       "[<matplotlib.lines.Line2D at 0x7f62300335f8>]"
      ]
     },
     "execution_count": 31,
     "metadata": {},
     "output_type": "execute_result"
    },
    {
     "data": {
      "image/png": "[encoded data removed]",
      "text/plain": [
       "<matplotlib.figure.Figure at 0x7f622ff0bbe0>"
      ]
     },
     "metadata": {},
     "output_type": "display_data"
    }
   ],
   "source": [
    "#Instantiate a figure\n",
    "fig = plt.figure()\n",
    "\n",
    "#Add an axis\n",
    "ax = fig.add_axes([0,0,1,1])\n",
    "\n",
    "#Plot emissions versus years\n",
    "ax.plot(years, us_emissions)"
   ]
  },
  {
   "cell_type": "markdown",
   "metadata": {},
   "source": [
    "This is a pretty minimal plot. There are several things we might like to do to it, to make it a bit more legible:\n",
    "\n",
    "* Put markers at the data points\n",
    "* Make the line dashed, so that people don't think there's X-values in-between the integers\n",
    "* Add labels to the x,y-axes\n",
    "* Add a title\n",
    "\n",
    "Using the ``plot`` method of an ``Axes`` object, doing so is straightforward! The first two points are accomplished using the ``marker``, ``markersize``, ``linestyle`` keywords, and the last two using other methods built into the ``Axes`` object."
   ]
  },
  {
   "cell_type": "code",
   "execution_count": 37,
   "metadata": {},
   "outputs": [
    {
     "data": {
      "image/png": "[encoded data removed]",
      "text/plain": [
       "<matplotlib.figure.Figure at 0x7f622fb94198>"
      ]
     },
     "metadata": {},
     "output_type": "display_data"
    }
   ],
   "source": [
    "#Draw the minimal figure\n",
    "fig = plt.figure()\n",
    "ax = fig.add_axes([0, 0, 1, 1])\n",
    "\n",
    "#Change marker, markersize, and linestyle\n",
    "ax.plot(years, us_emissions, marker='o', markersize=8, linestyle='--', clip_on=False)\n",
    "\n",
    "#Add a label to the x-axis\n",
    "ax.set_xlabel('Year', fontsize=20)\n",
    "\n",
    "#Add a label to the y-axis\n",
    "ax.set_ylabel('Emissions', fontsize=20)\n",
    "\n",
    "#Add a  title\n",
    "ax.set_title('US CO2 Emissions (metric tons per capita)')\n",
    "\n",
    "#Adjust x limits for easier viewing\n",
    "ax.set_xlim([1990, 2015])\n",
    "\n",
    "#Turn off the frame (the box around the plot)\n",
    "ax.set_frame_on(False)"
   ]
  },
  {
   "cell_type": "markdown",
   "metadata": {},
   "source": [
    "> Bar Plot\n",
    "-----------\n",
    "\n",
    "To make a bar plot, we use the ``bar`` method of an ``Axes`` object. Below, you'll make a bar plot of carbon dioxide emissions in 2012 for a few countries.\n",
    "\n",
    "The ``bar`` method is a bit strange in that it request as input a list of scalars and a list of bar heights, and\n",
    "then outputs the bar plot. Which means that if we want our x-labels to be _categorical_, then we need to explicitly\n",
    "manipulate the plot to do so."
   ]
  },
  {
   "cell_type": "code",
   "execution_count": 38,
   "metadata": {
    "collapsed": true
   },
   "outputs": [],
   "source": [
    "#2012 carbon dioxide emissions (metric tons per capita) for a few countries\n",
    "\n",
    "countries = ['Qatar', 'Kuwait', 'Luxembourg', 'United Arab Emirates', 'Saudi Arabia', 'Australia', 'United States',\\\n",
    "             'Canada', 'Russian Federation']\n",
    "\n",
    "emissions = [46.697477, 29.578729, 20.084219, 19.252223, 19.188937, 16.519386, 16.287053, 13.858827, 12.818345]"
   ]
  },
  {
   "cell_type": "code",
   "execution_count": 47,
   "metadata": {},
   "outputs": [
    {
     "data": {
      "image/png": "[encoded data removed]",
      "text/plain": [
       "<matplotlib.figure.Figure at 0x7f622fd53320>"
      ]
     },
     "metadata": {},
     "output_type": "display_data"
    }
   ],
   "source": [
    "#Make a figure\n",
    "fig = plt.figure()\n",
    "\n",
    "#Add an axis\n",
    "ax = fig.add_axes([0, 0, 1, 1])\n",
    "\n",
    "#Use the bar() function to make the bar plot\n",
    "ax.bar(range(len(countries)), emissions)\n",
    "\n",
    "#Adjust the x-ticks\n",
    "ax.set_xticks(range(len(countries)))\n",
    "ax.set_xticklabels(countries, rotation=45)\n",
    "\n",
    "#Put labels on the axes, and make a title\n",
    "ax.set_xlabel('Country')\n",
    "ax.set_ylabel('Emissions')\n",
    "ax.set_title('2012 CO2 Emissions, by Country')\n",
    "\n",
    "#Turn off the frame\n",
    "ax.set_frame_on(False)\n",
    "#Suppress some output, and show the plot\n",
    "plt.show()"
   ]
  },
  {
   "cell_type": "markdown",
   "metadata": {},
   "source": [
    "> Histogram\n",
    "-----------\n",
    "\n",
    "Another useful visualization is a histogram. We can make one using the ``hist()`` method of an ``Axes`` object. Below, we expand our view of the emissions information we plotted above, and look at 2012 CO2 emissions over all countries for which the World Bank had information."
   ]
  },
  {
   "cell_type": "code",
   "execution_count": 49,
   "metadata": {
    "collapsed": true
   },
   "outputs": [],
   "source": [
    "#Load 2012 data from the data file\n",
    "emissions = np.loadtxt('2012_emissions_data.txt')"
   ]
  },
  {
   "cell_type": "markdown",
   "metadata": {},
   "source": [
    "As a sanity check, let's see how many entries are in this dataset:"
   ]
  },
  {
   "cell_type": "code",
   "execution_count": 50,
   "metadata": {},
   "outputs": [
    {
     "data": {
      "text/plain": [
       "204"
      ]
     },
     "execution_count": 50,
     "metadata": {},
     "output_type": "execute_result"
    }
   ],
   "source": [
    "len(emissions)"
   ]
  },
  {
   "cell_type": "markdown",
   "metadata": {},
   "source": [
    "There are approximately 195 recognized countries in the world today, so this number is in the right ballpark. (It may include other sovereign entities which are not countries.)"
   ]
  },
  {
   "cell_type": "code",
   "execution_count": 55,
   "metadata": {},
   "outputs": [
    {
     "data": {
      "image/png": "[encoded data removed]",
      "text/plain": [
       "<matplotlib.figure.Figure at 0x7f622fd39668>"
      ]
     },
     "metadata": {},
     "output_type": "display_data"
    }
   ],
   "source": [
    "#Make a figure\n",
    "fig = plt.figure()\n",
    "\n",
    "#Add an axis\n",
    "ax = fig.add_axes([0, 0, 1, 1])\n",
    "\n",
    "#Use the ax.hist() function to make a histogram.\n",
    "#NOTE: Adjust the range if need be.\n",
    "ax.hist(emissions)\n",
    "\n",
    "#Label the axes\n",
    "ax.set_xlabel('CO2 Emissions (metric tons per capita)', fontsize=20)\n",
    "ax.set_ylabel('Counts (Sovereign Entities)', fontsize=20)\n",
    "ax.set_title('2012 World Bank Data')\n",
    "#Change the y-scale to make the visualization a bit\n",
    "#easier to understand.\n",
    "ax.set_yscale('log')\n",
    "\n",
    "plt.show()"
   ]
  },
  {
   "cell_type": "markdown",
   "metadata": {},
   "source": [
    "Working with Multiple ``Axes`` Objects\n",
    "==========\n",
    "\n",
    "The plots above all use a single ``Axes`` object to do plotting. However, we may want to make many different kinds of plots, all of which are related to one another, and display them on the same figure. How can we do so? ``matplotlib`` provides at least two ways:\n",
    "\n",
    "* Use the ``figure.add_subplot()`` method, which is useful for figures where you want to arrange the different plots in a _rectangular grid_\n",
    "\n",
    "* Use the ``matplotlib.gridspec()`` module, which provides more fine-grained control over the grid than the ``figure.add_subplot()`` method.\n",
    "\n",
    "We'll look at both of these approaches."
   ]
  },
  {
   "cell_type": "markdown",
   "metadata": {},
   "source": [
    "> Using the ``figure.add_subplot()`` method\n",
    "----------\n",
    "\n",
    "This method is well-suited to quickly setting up rectangular grids of axes. For example, what if we wanted to make histograms for several different years? Using ``.add_subplot()`` is a natural choice for doing so.\n",
    "\n",
    "To use this method, we first instantiate a ``figure`` object, and then specify the number of rows, number of columns, and tell matplotlib where to put the axes:\n",
    "\n",
    "```python\n",
    "fig = plt.figure()\n",
    "ax = fig.add_subplot(nrows, ncolumns, counter)\n",
    "```\n",
    "\n",
    "``counter`` has to take values in the interval [1, 2, 3, ..., ``nrows``*``ncolumns``]."
   ]
  },
  {
   "cell_type": "code",
   "execution_count": 65,
   "metadata": {},
   "outputs": [
    {
     "data": {
      "image/png": "[encoded data removed]",
      "text/plain": [
       "<matplotlib.figure.Figure at 0x7f622f3dbbe0>"
      ]
     },
     "metadata": {},
     "output_type": "display_data"
    }
   ],
   "source": [
    "#Create the figure\n",
    "fig = plt.figure(figsize=(10, 5))\n",
    "\n",
    "#Make a subplot with 1 row, 2 columns, and put this\n",
    "#axis in the first position\n",
    "ax1 = fig.add_subplot(1, 2, 1)\n",
    "\n",
    "#Load the 1990 emissions data\n",
    "emissions_1990 = np.loadtxt('1990_emissions_data.txt')\n",
    "\n",
    "#Make a histogram\n",
    "ax1.hist(emissions_1990)\n",
    "\n",
    "#Set the xlimits, title, y-scale\n",
    "ax1.set_xlim([0, 50])\n",
    "ax1.set_title('1990 Emissions')\n",
    "\n",
    "#Continue the subplot from above, but increment the counter\n",
    "#by one\n",
    "ax2 = fig.add_subplot(1, 2, 2)\n",
    "\n",
    "#Load the 2012 emissions data\n",
    "emissions_2012 = np.loadtxt('2012_emissions_data.txt')\n",
    "\n",
    "#Make a histogram\n",
    "ax2.hist(emissions_2012)\n",
    "\n",
    "\n",
    "#Set the xlimits, title, y-scale\n",
    "ax2.set_xlim([0, 50])\n",
    "ax2.set_title('2012 Emissions')\n",
    "\n",
    "#Make a figure-level title using the fig.text() function\n",
    "#May have to adjust the (x,y) coordinates\n",
    "fig.text(.35, 1, 'Comparison of CO2 Emissions', fontsize=20)\n",
    "plt.show()"
   ]
  },
  {
   "cell_type": "markdown",
   "metadata": {},
   "source": [
    "> Using the ``matplotlib.gridspec`` module\n",
    "----------"
   ]
  },
  {
   "cell_type": "markdown",
   "metadata": {},
   "source": [
    "The ``gridspec`` module is useful if you have several things you want to plot, but the arrangement of the plots is a bit more involved. To demonstrate this, we'll make a plot with the following components:\n",
    "\n",
    "* A bar plot of emissions from the US and China in 2013\n",
    "* A time series plot of US emissions\n",
    "* A time series plot of Chinese emissions\n",
    "\n",
    "To make this plot, we also utilize the ``pandas`` package, which is designed to be Python's answer to the R statistical programming language. For the purposes of this lesson, we won't focus too much on exactly how dataframes work."
   ]
  },
  {
   "cell_type": "code",
   "execution_count": 66,
   "metadata": {
    "collapsed": true
   },
   "outputs": [],
   "source": [
    "#Import pandas\n",
    "import pandas as pd\n",
    "\n",
    "#Import the GridSpec module from matplotlib.gridspec\n",
    "from matplotlib.gridspec import GridSpec\n"
   ]
  },
  {
   "cell_type": "code",
   "execution_count": 73,
   "metadata": {
    "collapsed": true
   },
   "outputs": [],
   "source": [
    "#Read a CSV file\n",
    "#for US/Chinese emissions\n",
    "df = pd.read_csv('us_china_emissions.csv')"
   ]
  },
  {
   "cell_type": "code",
   "execution_count": 72,
   "metadata": {},
   "outputs": [
    {
     "data": {
      "text/html": [
       "<div>\n",
       "<table border=\"1\" class=\"dataframe\">\n",
       "  <thead>\n",
       "    <tr style=\"text-align: right;\">\n",
       "      <th></th>\n",
       "      <th>Country Name</th>\n",
       "      <th>Year</th>\n",
       "      <th>emissions</th>\n",
       "    </tr>\n",
       "  </thead>\n",
       "  <tbody>\n",
       "    <tr>\n",
       "      <th>0</th>\n",
       "      <td>China</td>\n",
       "      <td>1990</td>\n",
       "      <td>2.168</td>\n",
       "    </tr>\n",
       "    <tr>\n",
       "      <th>1</th>\n",
       "      <td>United States</td>\n",
       "      <td>1990</td>\n",
       "      <td>19.323</td>\n",
       "    </tr>\n",
       "    <tr>\n",
       "      <th>2</th>\n",
       "      <td>China</td>\n",
       "      <td>2000</td>\n",
       "      <td>2.697</td>\n",
       "    </tr>\n",
       "    <tr>\n",
       "      <th>3</th>\n",
       "      <td>United States</td>\n",
       "      <td>2000</td>\n",
       "      <td>20.208</td>\n",
       "    </tr>\n",
       "    <tr>\n",
       "      <th>4</th>\n",
       "      <td>China</td>\n",
       "      <td>2007</td>\n",
       "      <td>5.154</td>\n",
       "    </tr>\n",
       "  </tbody>\n",
       "</table>\n",
       "</div>"
      ],
      "text/plain": [
       "    Country Name  Year  emissions\n",
       "0          China  1990      2.168\n",
       "1  United States  1990     19.323\n",
       "2          China  2000      2.697\n",
       "3  United States  2000     20.208\n",
       "4          China  2007      5.154"
      ]
     },
     "execution_count": 72,
     "metadata": {},
     "output_type": "execute_result"
    }
   ],
   "source": [
    "#Look at the start of the data\n",
    "df.head()"
   ]
  },
  {
   "cell_type": "markdown",
   "metadata": {},
   "source": [
    "Now that we have the data, we create a [``GridSpec`` object](https://matplotlib.org/users/gridspec.html). Like the ``add_subplot()`` method, we need to specify the number of rows and columns.\n",
    "\n",
    "The geometry of the plot we are going to make will look like one two-column plot at the top, and two one-column plots on the bottom. Thus, we will need two rows and two columns."
   ]
  },
  {
   "cell_type": "code",
   "execution_count": 69,
   "metadata": {
    "collapsed": true
   },
   "outputs": [],
   "source": [
    "#Create a GridSpec object, with 2 rows and 2 columns\n",
    "grid = GridSpec(2, 2)"
   ]
  },
  {
   "cell_type": "code",
   "execution_count": 79,
   "metadata": {},
   "outputs": [
    {
     "data": {
      "text/plain": [
       "<matplotlib.axes._subplots.AxesSubplot at 0x7f622713bc88>"
      ]
     },
     "execution_count": 79,
     "metadata": {},
     "output_type": "execute_result"
    },
    {
     "data": {
      "image/png": "[encoded data removed]",
      "text/plain": [
       "<matplotlib.figure.Figure at 0x7f6226cb9198>"
      ]
     },
     "metadata": {},
     "output_type": "display_data"
    }
   ],
   "source": [
    "#Make the figure\n",
    "fig = plt.figure()\n",
    "\n",
    "#To create the top-most plot, we tell\n",
    "#the figure the subplot spans two columns\n",
    "ax1 = fig.add_subplot(grid[0, :])\n",
    "\n",
    "#Specify which year we want to look at\n",
    "year = 2012\n",
    "\n",
    "#Now, we use the .plot() method of pandas dataframes to plot emissions\n",
    "#for US and China\n",
    "df[df['Year'] == year].plot(x='Country Name', y='emissions', ax=ax1, kind='bar')\n",
    "\n",
    "#Set the title to tell us what year we're looking at\n",
    "\n",
    "\n",
    "#To create the bottom-left plot,\n",
    "#we tell the figure to use the [1, 0]\n",
    "#element of the grid.\n",
    "ax2 = fig.add_subplot(grid[1, 0])\n",
    "\n",
    "#Plot a time series of Chinese emissions\n",
    "df[df['Country Name'] == 'China'].plot(x='Year', y='emissions', ax=ax2)\n",
    "\n",
    "\n",
    "#To create the bottom-right plot,\n",
    "#we tell the figure to use the [1, 1]\n",
    "#element of the grid.\n",
    "ax3 = fig.add_subplot(grid[1, 1])\n",
    "\n",
    "#Plot a time series of US emissions\n",
    "df[df['Country Name'] == 'United States'].plot(x='Year', y='emissions', ax=ax3)"
   ]
  },
  {
   "cell_type": "markdown",
   "metadata": {},
   "source": [
    "Improving Figure Aesthetics\n",
    "=============="
   ]
  },
  {
   "cell_type": "markdown",
   "metadata": {},
   "source": [
    "> Using ``seaborn`` to change default aesthetics\n",
    "-------------\n",
    "(Explain ``import seaborn``, and how it overrides ``matplotlib`` defaults)"
   ]
  },
  {
   "cell_type": "code",
   "execution_count": 1,
   "metadata": {
    "collapsed": true
   },
   "outputs": [],
   "source": [
    "import seaborn"
   ]
  },
  {
   "cell_type": "code",
   "execution_count": 2,
   "metadata": {},
   "outputs": [
    {
     "data": {
      "text/plain": [
       "'0.7.1'"
      ]
     },
     "execution_count": 2,
     "metadata": {},
     "output_type": "execute_result"
    }
   ],
   "source": [
    "seaborn.__version__"
   ]
  },
  {
   "cell_type": "code",
   "execution_count": 30,
   "metadata": {},
   "outputs": [
    {
     "data": {
      "image/png": "[encoded data removed]",
      "text/plain": [
       "<matplotlib.figure.Figure at 0x7f86f89621d0>"
      ]
     },
     "metadata": {},
     "output_type": "display_data"
    }
   ],
   "source": [
    "fig = plt.figure()\n",
    "ax= fig.add_axes([0, 0, 1, 1])"
   ]
  },
  {
   "cell_type": "markdown",
   "metadata": {},
   "source": [
    "> Choosing a Good Colormap with ``seaborn.color_palette``\n",
    "--------------\n",
    "http://seaborn.pydata.org/tutorial/color_palettes.html"
   ]
  },
  {
   "cell_type": "code",
   "execution_count": null,
   "metadata": {
    "collapsed": true
   },
   "outputs": [],
   "source": []
  },
  {
   "cell_type": "markdown",
   "metadata": {},
   "source": [
    "* Categorical Data"
   ]
  },
  {
   "cell_type": "code",
   "execution_count": 31,
   "metadata": {},
   "outputs": [
    {
     "data": {
      "text/html": [
       "<div>\n",
       "<table border=\"1\" class=\"dataframe\">\n",
       "  <thead>\n",
       "    <tr style=\"text-align: right;\">\n",
       "      <th></th>\n",
       "      <th>Country Name</th>\n",
       "      <th>Year</th>\n",
       "      <th>emissions</th>\n",
       "    </tr>\n",
       "  </thead>\n",
       "  <tbody>\n",
       "    <tr>\n",
       "      <th>0</th>\n",
       "      <td>China</td>\n",
       "      <td>1990</td>\n",
       "      <td>2.168</td>\n",
       "    </tr>\n",
       "    <tr>\n",
       "      <th>1</th>\n",
       "      <td>France</td>\n",
       "      <td>1990</td>\n",
       "      <td>6.420</td>\n",
       "    </tr>\n",
       "    <tr>\n",
       "      <th>2</th>\n",
       "      <td>Japan</td>\n",
       "      <td>1990</td>\n",
       "      <td>8.873</td>\n",
       "    </tr>\n",
       "    <tr>\n",
       "      <th>3</th>\n",
       "      <td>Korea, Rep.</td>\n",
       "      <td>1990</td>\n",
       "      <td>5.760</td>\n",
       "    </tr>\n",
       "    <tr>\n",
       "      <th>4</th>\n",
       "      <td>United States</td>\n",
       "      <td>1990</td>\n",
       "      <td>19.323</td>\n",
       "    </tr>\n",
       "  </tbody>\n",
       "</table>\n",
       "</div>"
      ],
      "text/plain": [
       "    Country Name  Year  emissions\n",
       "0          China  1990      2.168\n",
       "1         France  1990      6.420\n",
       "2          Japan  1990      8.873\n",
       "3    Korea, Rep.  1990      5.760\n",
       "4  United States  1990     19.323"
      ]
     },
     "execution_count": 31,
     "metadata": {},
     "output_type": "execute_result"
    }
   ],
   "source": [
    "df = pd.read_csv('worldwide_emissions.csv')\n",
    "\n",
    "df.head()"
   ]
  },
  {
   "cell_type": "code",
   "execution_count": 32,
   "metadata": {},
   "outputs": [
    {
     "data": {
      "image/png": "[encoded data removed]",
      "text/plain": [
       "<matplotlib.figure.Figure at 0x7f87014a4550>"
      ]
     },
     "metadata": {},
     "output_type": "display_data"
    }
   ],
   "source": [
    "colors = seaborn.color_palette('husl', n_colors=len(df['Country Name'].unique()))\n",
    "\n",
    "seaborn.palplot(colors)"
   ]
  },
  {
   "cell_type": "code",
   "execution_count": null,
   "metadata": {
    "collapsed": true
   },
   "outputs": [],
   "source": []
  },
  {
   "cell_type": "code",
   "execution_count": 33,
   "metadata": {
    "scrolled": false
   },
   "outputs": [
    {
     "data": {
      "text/plain": [
       "<matplotlib.legend.Legend at 0x7f8709cab6d8>"
      ]
     },
     "execution_count": 33,
     "metadata": {},
     "output_type": "execute_result"
    },
    {
     "data": {
      "image/png": "[encoded data removed]",
      "text/plain": [
       "<matplotlib.figure.Figure at 0x7f8709d68518>"
      ]
     },
     "metadata": {},
     "output_type": "display_data"
    }
   ],
   "source": [
    "fig = plt.figure()\n",
    "ax = fig.add_axes([0, 0, 1, 1])\n",
    "\n",
    "counter = 0\n",
    "for c in df['Country Name'].unique():\n",
    "    X = df[df['Country Name'] == c]['Year']\n",
    "    Y = df[df['Country Name'] == c]['emissions']\n",
    "    ax.plot(X, Y, color=colors[counter], ls='--', marker='o', clip_on=False, label=c)\n",
    "    \n",
    "    counter +=1\n",
    "    \n",
    "ax.legend(loc=0, fontsize=12)"
   ]
  },
  {
   "cell_type": "code",
   "execution_count": 34,
   "metadata": {},
   "outputs": [
    {
     "data": {
      "text/plain": [
       "<matplotlib.axes._axes.Axes at 0x7f8709d8b4e0>"
      ]
     },
     "execution_count": 34,
     "metadata": {},
     "output_type": "execute_result"
    },
    {
     "data": {
      "image/png": "[encoded data removed]",
      "text/plain": [
       "<matplotlib.figure.Figure at 0x7f8709d8b860>"
      ]
     },
     "metadata": {},
     "output_type": "display_data"
    }
   ],
   "source": [
    "\n",
    "fig = plt.figure()\n",
    "ax = fig.add_axes([0, 0, 1, 1])\n",
    "df.pivot_table(index='Year', columns='Country Name', values='emissions').plot(ax=ax,color=colors)"
   ]
  },
  {
   "cell_type": "markdown",
   "metadata": {},
   "source": [
    "* Sequential Color Palette"
   ]
  },
  {
   "cell_type": "code",
   "execution_count": 35,
   "metadata": {},
   "outputs": [
    {
     "data": {
      "text/html": [
       "<div>\n",
       "<table border=\"1\" class=\"dataframe\">\n",
       "  <thead>\n",
       "    <tr style=\"text-align: right;\">\n",
       "      <th>Year</th>\n",
       "      <th>1990</th>\n",
       "      <th>2000</th>\n",
       "      <th>2007</th>\n",
       "      <th>2008</th>\n",
       "      <th>2009</th>\n",
       "      <th>2010</th>\n",
       "      <th>2011</th>\n",
       "      <th>2012</th>\n",
       "      <th>2013</th>\n",
       "    </tr>\n",
       "    <tr>\n",
       "      <th>Country Name</th>\n",
       "      <th></th>\n",
       "      <th></th>\n",
       "      <th></th>\n",
       "      <th></th>\n",
       "      <th></th>\n",
       "      <th></th>\n",
       "      <th></th>\n",
       "      <th></th>\n",
       "      <th></th>\n",
       "    </tr>\n",
       "  </thead>\n",
       "  <tbody>\n",
       "    <tr>\n",
       "      <th>China</th>\n",
       "      <td>2.168</td>\n",
       "      <td>2.697</td>\n",
       "      <td>5.154</td>\n",
       "      <td>5.417</td>\n",
       "      <td>5.723</td>\n",
       "      <td>6.554</td>\n",
       "      <td>7.235</td>\n",
       "      <td>7.419</td>\n",
       "      <td>7.551</td>\n",
       "    </tr>\n",
       "    <tr>\n",
       "      <th>France</th>\n",
       "      <td>6.420</td>\n",
       "      <td>5.944</td>\n",
       "      <td>5.763</td>\n",
       "      <td>5.687</td>\n",
       "      <td>5.434</td>\n",
       "      <td>5.425</td>\n",
       "      <td>5.074</td>\n",
       "      <td>5.071</td>\n",
       "      <td>5.050</td>\n",
       "    </tr>\n",
       "    <tr>\n",
       "      <th>Germany</th>\n",
       "      <td>NaN</td>\n",
       "      <td>10.096</td>\n",
       "      <td>9.488</td>\n",
       "      <td>9.506</td>\n",
       "      <td>8.815</td>\n",
       "      <td>9.276</td>\n",
       "      <td>9.120</td>\n",
       "      <td>9.192</td>\n",
       "      <td>9.391</td>\n",
       "    </tr>\n",
       "    <tr>\n",
       "      <th>Japan</th>\n",
       "      <td>8.873</td>\n",
       "      <td>9.622</td>\n",
       "      <td>9.783</td>\n",
       "      <td>9.450</td>\n",
       "      <td>8.619</td>\n",
       "      <td>9.150</td>\n",
       "      <td>9.318</td>\n",
       "      <td>9.639</td>\n",
       "      <td>9.764</td>\n",
       "    </tr>\n",
       "    <tr>\n",
       "      <th>Korea, Rep.</th>\n",
       "      <td>5.760</td>\n",
       "      <td>9.521</td>\n",
       "      <td>10.200</td>\n",
       "      <td>10.370</td>\n",
       "      <td>10.347</td>\n",
       "      <td>11.470</td>\n",
       "      <td>11.840</td>\n",
       "      <td>11.681</td>\n",
       "      <td>11.798</td>\n",
       "    </tr>\n",
       "    <tr>\n",
       "      <th>Russian Federation</th>\n",
       "      <td>NaN</td>\n",
       "      <td>10.627</td>\n",
       "      <td>11.672</td>\n",
       "      <td>12.015</td>\n",
       "      <td>11.024</td>\n",
       "      <td>11.726</td>\n",
       "      <td>12.368</td>\n",
       "      <td>12.818</td>\n",
       "      <td>12.467</td>\n",
       "    </tr>\n",
       "    <tr>\n",
       "      <th>United States</th>\n",
       "      <td>19.323</td>\n",
       "      <td>20.208</td>\n",
       "      <td>19.237</td>\n",
       "      <td>18.489</td>\n",
       "      <td>17.192</td>\n",
       "      <td>17.485</td>\n",
       "      <td>17.019</td>\n",
       "      <td>16.287</td>\n",
       "      <td>16.390</td>\n",
       "    </tr>\n",
       "  </tbody>\n",
       "</table>\n",
       "</div>"
      ],
      "text/plain": [
       "Year                  1990    2000    2007    2008    2009    2010    2011  \\\n",
       "Country Name                                                                 \n",
       "China                2.168   2.697   5.154   5.417   5.723   6.554   7.235   \n",
       "France               6.420   5.944   5.763   5.687   5.434   5.425   5.074   \n",
       "Germany                NaN  10.096   9.488   9.506   8.815   9.276   9.120   \n",
       "Japan                8.873   9.622   9.783   9.450   8.619   9.150   9.318   \n",
       "Korea, Rep.          5.760   9.521  10.200  10.370  10.347  11.470  11.840   \n",
       "Russian Federation     NaN  10.627  11.672  12.015  11.024  11.726  12.368   \n",
       "United States       19.323  20.208  19.237  18.489  17.192  17.485  17.019   \n",
       "\n",
       "Year                  2012    2013  \n",
       "Country Name                        \n",
       "China                7.419   7.551  \n",
       "France               5.071   5.050  \n",
       "Germany              9.192   9.391  \n",
       "Japan                9.639   9.764  \n",
       "Korea, Rep.         11.681  11.798  \n",
       "Russian Federation  12.818  12.467  \n",
       "United States       16.287  16.390  "
      ]
     },
     "execution_count": 35,
     "metadata": {},
     "output_type": "execute_result"
    }
   ],
   "source": [
    "PT = df.pivot_table(index='Year', columns='Country Name', values='emissions').transpose()\n",
    "PT"
   ]
  },
  {
   "cell_type": "code",
   "execution_count": 36,
   "metadata": {},
   "outputs": [
    {
     "data": {
      "image/png": "[encoded data removed]",
      "text/plain": [
       "<matplotlib.figure.Figure at 0x7f8709dd9828>"
      ]
     },
     "metadata": {},
     "output_type": "display_data"
    }
   ],
   "source": [
    "cmap = seaborn.cubehelix_palette(n_colors=10, light=1, as_cmap=False)\n",
    "seaborn.palplot(cmap)"
   ]
  },
  {
   "cell_type": "code",
   "execution_count": 37,
   "metadata": {
    "collapsed": true
   },
   "outputs": [],
   "source": [
    "cmap = seaborn.cubehelix_palette(n_colors=10, light=1, as_cmap=True)"
   ]
  },
  {
   "cell_type": "code",
   "execution_count": 38,
   "metadata": {},
   "outputs": [
    {
     "data": {
      "image/png": "[encoded data removed]",
      "text/plain": [
       "<matplotlib.figure.Figure at 0x7f86f8902d30>"
      ]
     },
     "metadata": {},
     "output_type": "display_data"
    }
   ],
   "source": [
    "fig = plt.figure()\n",
    "ax = fig.add_axes([0, 0, 1, 1])\n",
    "seaborn.heatmap(PT.as_matrix(), ax=ax, cmap=cmap)\n",
    "\n",
    "ax.set_xticklabels(PT.columns)\n",
    "ax.set_yticklabels(list(reversed(PT.index)), rotation=0)\n",
    "\n",
    "ax.set_xlabel('Year')\n",
    "ax.set_ylabel('Country')\n",
    "ax.set_title('CO2 Emissions (metric tons/capita) for selected countries')\n",
    "plt.show()"
   ]
  },
  {
   "cell_type": "markdown",
   "metadata": {},
   "source": [
    "* Diverging Colormap"
   ]
  },
  {
   "cell_type": "code",
   "execution_count": 39,
   "metadata": {
    "scrolled": false
   },
   "outputs": [
    {
     "data": {
      "text/html": [
       "<div>\n",
       "<table border=\"1\" class=\"dataframe\">\n",
       "  <thead>\n",
       "    <tr style=\"text-align: right;\">\n",
       "      <th>Year</th>\n",
       "      <th>1990</th>\n",
       "      <th>2000</th>\n",
       "      <th>2007</th>\n",
       "      <th>2008</th>\n",
       "      <th>2009</th>\n",
       "      <th>2010</th>\n",
       "      <th>2011</th>\n",
       "      <th>2012</th>\n",
       "      <th>2013</th>\n",
       "    </tr>\n",
       "    <tr>\n",
       "      <th>Country Name</th>\n",
       "      <th></th>\n",
       "      <th></th>\n",
       "      <th></th>\n",
       "      <th></th>\n",
       "      <th></th>\n",
       "      <th></th>\n",
       "      <th></th>\n",
       "      <th></th>\n",
       "      <th></th>\n",
       "    </tr>\n",
       "  </thead>\n",
       "  <tbody>\n",
       "    <tr>\n",
       "      <th>China</th>\n",
       "      <td>-6.705</td>\n",
       "      <td>-6.925</td>\n",
       "      <td>-4.629</td>\n",
       "      <td>-4.033</td>\n",
       "      <td>-2.896</td>\n",
       "      <td>-2.596</td>\n",
       "      <td>-2.083</td>\n",
       "      <td>-2.220</td>\n",
       "      <td>-2.213</td>\n",
       "    </tr>\n",
       "    <tr>\n",
       "      <th>France</th>\n",
       "      <td>-2.453</td>\n",
       "      <td>-3.678</td>\n",
       "      <td>-4.020</td>\n",
       "      <td>-3.763</td>\n",
       "      <td>-3.185</td>\n",
       "      <td>-3.725</td>\n",
       "      <td>-4.244</td>\n",
       "      <td>-4.568</td>\n",
       "      <td>-4.714</td>\n",
       "    </tr>\n",
       "    <tr>\n",
       "      <th>Germany</th>\n",
       "      <td>NaN</td>\n",
       "      <td>0.474</td>\n",
       "      <td>-0.295</td>\n",
       "      <td>0.056</td>\n",
       "      <td>0.196</td>\n",
       "      <td>0.126</td>\n",
       "      <td>-0.198</td>\n",
       "      <td>-0.447</td>\n",
       "      <td>-0.373</td>\n",
       "    </tr>\n",
       "    <tr>\n",
       "      <th>Japan</th>\n",
       "      <td>0.000</td>\n",
       "      <td>0.000</td>\n",
       "      <td>0.000</td>\n",
       "      <td>0.000</td>\n",
       "      <td>0.000</td>\n",
       "      <td>0.000</td>\n",
       "      <td>0.000</td>\n",
       "      <td>0.000</td>\n",
       "      <td>0.000</td>\n",
       "    </tr>\n",
       "    <tr>\n",
       "      <th>Korea, Rep.</th>\n",
       "      <td>-3.113</td>\n",
       "      <td>-0.101</td>\n",
       "      <td>0.417</td>\n",
       "      <td>0.920</td>\n",
       "      <td>1.728</td>\n",
       "      <td>2.320</td>\n",
       "      <td>2.522</td>\n",
       "      <td>2.042</td>\n",
       "      <td>2.034</td>\n",
       "    </tr>\n",
       "    <tr>\n",
       "      <th>Russian Federation</th>\n",
       "      <td>NaN</td>\n",
       "      <td>1.005</td>\n",
       "      <td>1.889</td>\n",
       "      <td>2.565</td>\n",
       "      <td>2.405</td>\n",
       "      <td>2.576</td>\n",
       "      <td>3.050</td>\n",
       "      <td>3.179</td>\n",
       "      <td>2.703</td>\n",
       "    </tr>\n",
       "    <tr>\n",
       "      <th>United States</th>\n",
       "      <td>10.450</td>\n",
       "      <td>10.586</td>\n",
       "      <td>9.454</td>\n",
       "      <td>9.039</td>\n",
       "      <td>8.573</td>\n",
       "      <td>8.335</td>\n",
       "      <td>7.701</td>\n",
       "      <td>6.648</td>\n",
       "      <td>6.626</td>\n",
       "    </tr>\n",
       "  </tbody>\n",
       "</table>\n",
       "</div>"
      ],
      "text/plain": [
       "Year                  1990    2000   2007   2008   2009   2010   2011   2012  \\\n",
       "Country Name                                                                   \n",
       "China               -6.705  -6.925 -4.629 -4.033 -2.896 -2.596 -2.083 -2.220   \n",
       "France              -2.453  -3.678 -4.020 -3.763 -3.185 -3.725 -4.244 -4.568   \n",
       "Germany                NaN   0.474 -0.295  0.056  0.196  0.126 -0.198 -0.447   \n",
       "Japan                0.000   0.000  0.000  0.000  0.000  0.000  0.000  0.000   \n",
       "Korea, Rep.         -3.113  -0.101  0.417  0.920  1.728  2.320  2.522  2.042   \n",
       "Russian Federation     NaN   1.005  1.889  2.565  2.405  2.576  3.050  3.179   \n",
       "United States       10.450  10.586  9.454  9.039  8.573  8.335  7.701  6.648   \n",
       "\n",
       "Year                 2013  \n",
       "Country Name               \n",
       "China              -2.213  \n",
       "France             -4.714  \n",
       "Germany            -0.373  \n",
       "Japan               0.000  \n",
       "Korea, Rep.         2.034  \n",
       "Russian Federation  2.703  \n",
       "United States       6.626  "
      ]
     },
     "execution_count": 39,
     "metadata": {},
     "output_type": "execute_result"
    }
   ],
   "source": [
    "sub_country = 'Japan'\n",
    "\n",
    "sub_df = PT.sub(PT.ix[sub_country, :], axis=1)\n",
    "\n",
    "sub_df"
   ]
  },
  {
   "cell_type": "code",
   "execution_count": 40,
   "metadata": {},
   "outputs": [
    {
     "data": {
      "image/png": "[encoded data removed]",
      "text/plain": [
       "<matplotlib.figure.Figure at 0x7f86f87d7be0>"
      ]
     },
     "metadata": {},
     "output_type": "display_data"
    }
   ],
   "source": [
    "colors = seaborn.diverging_palette(150, 275, s=80, l=55, n=9)\n",
    "\n",
    "seaborn.palplot(colors)\n",
    "\n",
    "cmap = seaborn.diverging_palette(150, 275, s=80, l=55, n=9, as_cmap=True)"
   ]
  },
  {
   "cell_type": "code",
   "execution_count": 41,
   "metadata": {},
   "outputs": [
    {
     "data": {
      "image/png": "[encoded data removed]",
      "text/plain": [
       "<matplotlib.figure.Figure at 0x7f86f8727be0>"
      ]
     },
     "metadata": {},
     "output_type": "display_data"
    }
   ],
   "source": [
    "fig = plt.figure()\n",
    "ax = fig.add_axes([0, 0, 1, 1])\n",
    "seaborn.heatmap(sub_df.as_matrix(), ax=ax, cmap=cmap)\n",
    "\n",
    "ax.set_xticklabels(sub_df.columns)\n",
    "ax.set_yticklabels(list(reversed(sub_df.index)), rotation=0)\n",
    "\n",
    "ax.set_xlabel('Year')\n",
    "ax.set_ylabel('Country')\n",
    "ax.set_title('Relative CO2 Emissions (metric tons/capita) (compared to {0})'.format(sub_country))\n",
    "plt.show()"
   ]
  },
  {
   "cell_type": "markdown",
   "metadata": {},
   "source": [
    "> Using LaTeX-style fonts\n",
    "-----------------\n",
    "\n",
    "Fix error\n",
    "=="
   ]
  },
  {
   "cell_type": "code",
   "execution_count": 42,
   "metadata": {
    "collapsed": true
   },
   "outputs": [],
   "source": [
    "import matplotlib as mpl\n",
    "#Change \"False\" -> \"True\" to have matplotlib render\n",
    "#the text in the plots with a LaTeX-like font\n",
    "mpl.rc('text', usetex=False)"
   ]
  },
  {
   "cell_type": "code",
   "execution_count": 43,
   "metadata": {
    "scrolled": false
   },
   "outputs": [
    {
     "ename": "ValueError",
     "evalue": "x and y must have same first dimension, but have shapes (2,) and (9,)",
     "output_type": "error",
     "traceback": [
      "\u001b[0;31m-------------------------------------------------------------\u001b[0m",
      "\u001b[0;31mValueError\u001b[0m                  Traceback (most recent call last)",
      "\u001b[0;32m<ipython-input-43-db4c8362f90f>\u001b[0m in \u001b[0;36m<module>\u001b[0;34m()\u001b[0m\n\u001b[1;32m      7\u001b[0m \u001b[0;34m\u001b[0m\u001b[0m\n\u001b[1;32m      8\u001b[0m \u001b[0;31m#Plot emissions versus years\u001b[0m\u001b[0;34m\u001b[0m\u001b[0;34m\u001b[0m\u001b[0m\n\u001b[0;32m----> 9\u001b[0;31m \u001b[0max\u001b[0m\u001b[0;34m.\u001b[0m\u001b[0mplot\u001b[0m\u001b[0;34m(\u001b[0m\u001b[0myears\u001b[0m\u001b[0;34m,\u001b[0m \u001b[0mus_emissions\u001b[0m\u001b[0;34m)\u001b[0m\u001b[0;34m\u001b[0m\u001b[0m\n\u001b[0m",
      "\u001b[0;32m/home/travis/anaconda3/lib/python3.5/site-packages/matplotlib/__init__.py\u001b[0m in \u001b[0;36minner\u001b[0;34m(ax, *args, **kwargs)\u001b[0m\n\u001b[1;32m   1890\u001b[0m                     warnings.warn(msg % (label_namer, func.__name__),\n\u001b[1;32m   1891\u001b[0m                                   RuntimeWarning, stacklevel=2)\n\u001b[0;32m-> 1892\u001b[0;31m             \u001b[0;32mreturn\u001b[0m \u001b[0mfunc\u001b[0m\u001b[0;34m(\u001b[0m\u001b[0max\u001b[0m\u001b[0;34m,\u001b[0m \u001b[0;34m*\u001b[0m\u001b[0margs\u001b[0m\u001b[0;34m,\u001b[0m \u001b[0;34m**\u001b[0m\u001b[0mkwargs\u001b[0m\u001b[0;34m)\u001b[0m\u001b[0;34m\u001b[0m\u001b[0m\n\u001b[0m\u001b[1;32m   1893\u001b[0m         \u001b[0mpre_doc\u001b[0m \u001b[0;34m=\u001b[0m \u001b[0minner\u001b[0m\u001b[0;34m.\u001b[0m\u001b[0m__doc__\u001b[0m\u001b[0;34m\u001b[0m\u001b[0m\n\u001b[1;32m   1894\u001b[0m         \u001b[0;32mif\u001b[0m \u001b[0mpre_doc\u001b[0m \u001b[0;32mis\u001b[0m \u001b[0;32mNone\u001b[0m\u001b[0;34m:\u001b[0m\u001b[0;34m\u001b[0m\u001b[0m\n",
      "\u001b[0;32m/home/travis/anaconda3/lib/python3.5/site-packages/matplotlib/axes/_axes.py\u001b[0m in \u001b[0;36mplot\u001b[0;34m(self, *args, **kwargs)\u001b[0m\n\u001b[1;32m   1404\u001b[0m         \u001b[0mkwargs\u001b[0m \u001b[0;34m=\u001b[0m \u001b[0mcbook\u001b[0m\u001b[0;34m.\u001b[0m\u001b[0mnormalize_kwargs\u001b[0m\u001b[0;34m(\u001b[0m\u001b[0mkwargs\u001b[0m\u001b[0;34m,\u001b[0m \u001b[0m_alias_map\u001b[0m\u001b[0;34m)\u001b[0m\u001b[0;34m\u001b[0m\u001b[0m\n\u001b[1;32m   1405\u001b[0m \u001b[0;34m\u001b[0m\u001b[0m\n\u001b[0;32m-> 1406\u001b[0;31m         \u001b[0;32mfor\u001b[0m \u001b[0mline\u001b[0m \u001b[0;32min\u001b[0m \u001b[0mself\u001b[0m\u001b[0;34m.\u001b[0m\u001b[0m_get_lines\u001b[0m\u001b[0;34m(\u001b[0m\u001b[0;34m*\u001b[0m\u001b[0margs\u001b[0m\u001b[0;34m,\u001b[0m \u001b[0;34m**\u001b[0m\u001b[0mkwargs\u001b[0m\u001b[0;34m)\u001b[0m\u001b[0;34m:\u001b[0m\u001b[0;34m\u001b[0m\u001b[0m\n\u001b[0m\u001b[1;32m   1407\u001b[0m             \u001b[0mself\u001b[0m\u001b[0;34m.\u001b[0m\u001b[0madd_line\u001b[0m\u001b[0;34m(\u001b[0m\u001b[0mline\u001b[0m\u001b[0;34m)\u001b[0m\u001b[0;34m\u001b[0m\u001b[0m\n\u001b[1;32m   1408\u001b[0m             \u001b[0mlines\u001b[0m\u001b[0;34m.\u001b[0m\u001b[0mappend\u001b[0m\u001b[0;34m(\u001b[0m\u001b[0mline\u001b[0m\u001b[0;34m)\u001b[0m\u001b[0;34m\u001b[0m\u001b[0m\n",
      "\u001b[0;32m/home/travis/anaconda3/lib/python3.5/site-packages/matplotlib/axes/_base.py\u001b[0m in \u001b[0;36m_grab_next_args\u001b[0;34m(self, *args, **kwargs)\u001b[0m\n\u001b[1;32m    405\u001b[0m                 \u001b[0;32mreturn\u001b[0m\u001b[0;34m\u001b[0m\u001b[0m\n\u001b[1;32m    406\u001b[0m             \u001b[0;32mif\u001b[0m \u001b[0mlen\u001b[0m\u001b[0;34m(\u001b[0m\u001b[0mremaining\u001b[0m\u001b[0;34m)\u001b[0m \u001b[0;34m<=\u001b[0m \u001b[0;36m3\u001b[0m\u001b[0;34m:\u001b[0m\u001b[0;34m\u001b[0m\u001b[0m\n\u001b[0;32m--> 407\u001b[0;31m                 \u001b[0;32mfor\u001b[0m \u001b[0mseg\u001b[0m \u001b[0;32min\u001b[0m \u001b[0mself\u001b[0m\u001b[0;34m.\u001b[0m\u001b[0m_plot_args\u001b[0m\u001b[0;34m(\u001b[0m\u001b[0mremaining\u001b[0m\u001b[0;34m,\u001b[0m \u001b[0mkwargs\u001b[0m\u001b[0;34m)\u001b[0m\u001b[0;34m:\u001b[0m\u001b[0;34m\u001b[0m\u001b[0m\n\u001b[0m\u001b[1;32m    408\u001b[0m                     \u001b[0;32myield\u001b[0m \u001b[0mseg\u001b[0m\u001b[0;34m\u001b[0m\u001b[0m\n\u001b[1;32m    409\u001b[0m                 \u001b[0;32mreturn\u001b[0m\u001b[0;34m\u001b[0m\u001b[0m\n",
      "\u001b[0;32m/home/travis/anaconda3/lib/python3.5/site-packages/matplotlib/axes/_base.py\u001b[0m in \u001b[0;36m_plot_args\u001b[0;34m(self, tup, kwargs)\u001b[0m\n\u001b[1;32m    383\u001b[0m             \u001b[0mx\u001b[0m\u001b[0;34m,\u001b[0m \u001b[0my\u001b[0m \u001b[0;34m=\u001b[0m \u001b[0mindex_of\u001b[0m\u001b[0;34m(\u001b[0m\u001b[0mtup\u001b[0m\u001b[0;34m[\u001b[0m\u001b[0;34m-\u001b[0m\u001b[0;36m1\u001b[0m\u001b[0;34m]\u001b[0m\u001b[0;34m)\u001b[0m\u001b[0;34m\u001b[0m\u001b[0m\n\u001b[1;32m    384\u001b[0m \u001b[0;34m\u001b[0m\u001b[0m\n\u001b[0;32m--> 385\u001b[0;31m         \u001b[0mx\u001b[0m\u001b[0;34m,\u001b[0m \u001b[0my\u001b[0m \u001b[0;34m=\u001b[0m \u001b[0mself\u001b[0m\u001b[0;34m.\u001b[0m\u001b[0m_xy_from_xy\u001b[0m\u001b[0;34m(\u001b[0m\u001b[0mx\u001b[0m\u001b[0;34m,\u001b[0m \u001b[0my\u001b[0m\u001b[0;34m)\u001b[0m\u001b[0;34m\u001b[0m\u001b[0m\n\u001b[0m\u001b[1;32m    386\u001b[0m \u001b[0;34m\u001b[0m\u001b[0m\n\u001b[1;32m    387\u001b[0m         \u001b[0;32mif\u001b[0m \u001b[0mself\u001b[0m\u001b[0;34m.\u001b[0m\u001b[0mcommand\u001b[0m \u001b[0;34m==\u001b[0m \u001b[0;34m'plot'\u001b[0m\u001b[0;34m:\u001b[0m\u001b[0;34m\u001b[0m\u001b[0m\n",
      "\u001b[0;32m/home/travis/anaconda3/lib/python3.5/site-packages/matplotlib/axes/_base.py\u001b[0m in \u001b[0;36m_xy_from_xy\u001b[0;34m(self, x, y)\u001b[0m\n\u001b[1;32m    242\u001b[0m         \u001b[0;32mif\u001b[0m \u001b[0mx\u001b[0m\u001b[0;34m.\u001b[0m\u001b[0mshape\u001b[0m\u001b[0;34m[\u001b[0m\u001b[0;36m0\u001b[0m\u001b[0;34m]\u001b[0m \u001b[0;34m!=\u001b[0m \u001b[0my\u001b[0m\u001b[0;34m.\u001b[0m\u001b[0mshape\u001b[0m\u001b[0;34m[\u001b[0m\u001b[0;36m0\u001b[0m\u001b[0;34m]\u001b[0m\u001b[0;34m:\u001b[0m\u001b[0;34m\u001b[0m\u001b[0m\n\u001b[1;32m    243\u001b[0m             raise ValueError(\"x and y must have same first dimension, but \"\n\u001b[0;32m--> 244\u001b[0;31m                              \"have shapes {} and {}\".format(x.shape, y.shape))\n\u001b[0m\u001b[1;32m    245\u001b[0m         \u001b[0;32mif\u001b[0m \u001b[0mx\u001b[0m\u001b[0;34m.\u001b[0m\u001b[0mndim\u001b[0m \u001b[0;34m>\u001b[0m \u001b[0;36m2\u001b[0m \u001b[0;32mor\u001b[0m \u001b[0my\u001b[0m\u001b[0;34m.\u001b[0m\u001b[0mndim\u001b[0m \u001b[0;34m>\u001b[0m \u001b[0;36m2\u001b[0m\u001b[0;34m:\u001b[0m\u001b[0;34m\u001b[0m\u001b[0m\n\u001b[1;32m    246\u001b[0m             raise ValueError(\"x and y can be no greater than 2-D, but have \"\n",
      "\u001b[0;31mValueError\u001b[0m: x and y must have same first dimension, but have shapes (2,) and (9,)"
     ]
    },
    {
     "data": {
      "image/png": "[encoded data removed]",
      "text/plain": [
       "<matplotlib.figure.Figure at 0x7f86f8722be0>"
      ]
     },
     "metadata": {},
     "output_type": "display_data"
    }
   ],
   "source": [
    "#Instantiate a figure\n",
    "fig = plt.figure()\n",
    "\n",
    "#Add an axis\n",
    "ax = fig.add_axes([0, 0, 1, 1])\n",
    "\n",
    "\n",
    "#Plot emissions versus years\n",
    "ax.plot(years, us_emissions)"
   ]
  },
  {
   "cell_type": "markdown",
   "metadata": {},
   "source": [
    "> Generating Useful Plots with ``seaborn``\n",
    "-------------"
   ]
  },
  {
   "cell_type": "markdown",
   "metadata": {},
   "source": [
    "* Bar Plot"
   ]
  },
  {
   "cell_type": "code",
   "execution_count": null,
   "metadata": {
    "collapsed": true
   },
   "outputs": [],
   "source": [
    "df = pd.read_csv('worldwide_emissions.csv')\n",
    "\n",
    "df.head()"
   ]
  },
  {
   "cell_type": "code",
   "execution_count": null,
   "metadata": {
    "collapsed": true
   },
   "outputs": [],
   "source": [
    "fig = plt.figure(figsize=(10, 5))\n",
    "ax = fig.add_axes([0, 0, 1, 1])\n",
    "seaborn.barplot(x='Year', y='emissions', data=df, hue='Country Name', ax=ax)"
   ]
  },
  {
   "cell_type": "code",
   "execution_count": null,
   "metadata": {
    "collapsed": true
   },
   "outputs": [],
   "source": [
    "df = pd.read_table('2012_emissions_data.txt', header=None)\n",
    "\n",
    "df.head()"
   ]
  },
  {
   "cell_type": "code",
   "execution_count": null,
   "metadata": {
    "collapsed": true
   },
   "outputs": [],
   "source": [
    "seaborn.distplot(df, kde=True)"
   ]
  },
  {
   "cell_type": "code",
   "execution_count": null,
   "metadata": {
    "collapsed": true
   },
   "outputs": [],
   "source": [
    "seaborn.violinplot(data=df)"
   ]
  },
  {
   "cell_type": "markdown",
   "metadata": {},
   "source": [
    "Sharing Your Figures\n",
    "=========="
   ]
  },
  {
   "cell_type": "markdown",
   "metadata": {},
   "source": [
    "> Choosing a Good File Format\n",
    "--------------\n",
    "\n",
    "* pdf\n",
    "* svg\n",
    "* png"
   ]
  },
  {
   "cell_type": "markdown",
   "metadata": {},
   "source": [
    "> Saving Figures with ``figure.savefig()``\n",
    "------------"
   ]
  },
  {
   "cell_type": "code",
   "execution_count": null,
   "metadata": {
    "collapsed": true
   },
   "outputs": [],
   "source": [
    "df = pd.read_csv('worldwide_emissions.csv')\n",
    "fig = plt.figure(figsize=(10, 5))\n",
    "ax = fig.add_axes([0, 0, 1, 1])\n",
    "seaborn.barplot(x='Year', y='emissions', data=df, hue='Country Name', ax=ax)\n",
    "\n",
    "fig.savefig('emissions.png', bbox_inches='tight')"
   ]
  },
  {
   "cell_type": "code",
   "execution_count": null,
   "metadata": {
    "collapsed": true
   },
   "outputs": [],
   "source": []
  }
 ],
 "metadata": {
  "kernelspec": {
   "display_name": "Python [default]",
   "language": "python",
   "name": "python3"
  },
  "language_info": {
   "codemirror_mode": {
    "name": "ipython",
    "version": 3
   },
   "file_extension": ".py",
   "mimetype": "text/x-python",
   "name": "python",
   "nbconvert_exporter": "python",
   "pygments_lexer": "ipython3",
   "version": "3.5.3"
  }
 },
 "nbformat": 4,
 "nbformat_minor": 2
}
